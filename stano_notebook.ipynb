{
 "cells": [
  {
   "cell_type": "code",
   "execution_count": 134,
   "id": "0943afc4-1f94-4adc-8351-2879bcde6cec",
   "metadata": {},
   "outputs": [],
   "source": [
    "from sentence_transformers import SentenceTransformer, util\n",
    "\n",
    "import pandas as pd\n",
    "import numpy as np\n",
    "from typing import List"
   ]
  },
  {
   "cell_type": "code",
   "execution_count": 17,
   "id": "025ba9e0-507e-426a-84b5-00ff4b47758f",
   "metadata": {},
   "outputs": [],
   "source": [
    "path = './datasets/ML_DATASET_Hackathon_Supervised.csv'"
   ]
  },
  {
   "cell_type": "code",
   "execution_count": 142,
   "id": "5e800433-4c9d-44f5-bebb-773ac51c24ba",
   "metadata": {},
   "outputs": [],
   "source": [
    "df = pd.read_csv(path)\n",
    "train_abstract = df['Problem_Abstract'].to_list()\n",
    "ticket_number = df['Ticket'].to_list()"
   ]
  },
  {
   "cell_type": "code",
   "execution_count": 6,
   "id": "30d66c56-47fd-41fc-b5ac-85fcd58cb1e5",
   "metadata": {},
   "outputs": [
    {
     "data": {
      "application/vnd.jupyter.widget-view+json": {
       "model_id": "2f896f97585b423e84446c59098f7937",
       "version_major": 2,
       "version_minor": 0
      },
      "text/plain": [
       "Downloading:   0%|          | 0.00/1.18k [00:00<?, ?B/s]"
      ]
     },
     "metadata": {},
     "output_type": "display_data"
    },
    {
     "data": {
      "application/vnd.jupyter.widget-view+json": {
       "model_id": "23948c1664184cddb6392b081d2c5f1c",
       "version_major": 2,
       "version_minor": 0
      },
      "text/plain": [
       "Downloading:   0%|          | 0.00/190 [00:00<?, ?B/s]"
      ]
     },
     "metadata": {},
     "output_type": "display_data"
    },
    {
     "data": {
      "application/vnd.jupyter.widget-view+json": {
       "model_id": "47b8a7ce31044030b4e8b1ed008cedef",
       "version_major": 2,
       "version_minor": 0
      },
      "text/plain": [
       "Downloading:   0%|          | 0.00/10.6k [00:00<?, ?B/s]"
      ]
     },
     "metadata": {},
     "output_type": "display_data"
    },
    {
     "data": {
      "application/vnd.jupyter.widget-view+json": {
       "model_id": "a8b7a68df5cc4a70ba351cd63f0ff4c9",
       "version_major": 2,
       "version_minor": 0
      },
      "text/plain": [
       "Downloading:   0%|          | 0.00/571 [00:00<?, ?B/s]"
      ]
     },
     "metadata": {},
     "output_type": "display_data"
    },
    {
     "data": {
      "application/vnd.jupyter.widget-view+json": {
       "model_id": "58f42c5b17f647248db8215731094b4d",
       "version_major": 2,
       "version_minor": 0
      },
      "text/plain": [
       "Downloading:   0%|          | 0.00/116 [00:00<?, ?B/s]"
      ]
     },
     "metadata": {},
     "output_type": "display_data"
    },
    {
     "data": {
      "application/vnd.jupyter.widget-view+json": {
       "model_id": "b73b9285f31747d0a1915a62e0525b67",
       "version_major": 2,
       "version_minor": 0
      },
      "text/plain": [
       "Downloading:   0%|          | 0.00/39.3k [00:00<?, ?B/s]"
      ]
     },
     "metadata": {},
     "output_type": "display_data"
    },
    {
     "data": {
      "application/vnd.jupyter.widget-view+json": {
       "model_id": "71a643e26cac4c13826201073ae9a449",
       "version_major": 2,
       "version_minor": 0
      },
      "text/plain": [
       "Downloading:   0%|          | 0.00/438M [00:00<?, ?B/s]"
      ]
     },
     "metadata": {},
     "output_type": "display_data"
    },
    {
     "data": {
      "application/vnd.jupyter.widget-view+json": {
       "model_id": "eea92c95271a488e8bbcc30f23620177",
       "version_major": 2,
       "version_minor": 0
      },
      "text/plain": [
       "Downloading:   0%|          | 0.00/53.0 [00:00<?, ?B/s]"
      ]
     },
     "metadata": {},
     "output_type": "display_data"
    },
    {
     "data": {
      "application/vnd.jupyter.widget-view+json": {
       "model_id": "fc321eede23048adb75df31b2562bcd6",
       "version_major": 2,
       "version_minor": 0
      },
      "text/plain": [
       "Downloading:   0%|          | 0.00/239 [00:00<?, ?B/s]"
      ]
     },
     "metadata": {},
     "output_type": "display_data"
    },
    {
     "data": {
      "application/vnd.jupyter.widget-view+json": {
       "model_id": "a9ad157380e94018a807e8a12c83f9a2",
       "version_major": 2,
       "version_minor": 0
      },
      "text/plain": [
       "Downloading:   0%|          | 0.00/466k [00:00<?, ?B/s]"
      ]
     },
     "metadata": {},
     "output_type": "display_data"
    },
    {
     "data": {
      "application/vnd.jupyter.widget-view+json": {
       "model_id": "d63879be2fb847979f100167dc3de5f9",
       "version_major": 2,
       "version_minor": 0
      },
      "text/plain": [
       "Downloading:   0%|          | 0.00/363 [00:00<?, ?B/s]"
      ]
     },
     "metadata": {},
     "output_type": "display_data"
    },
    {
     "data": {
      "application/vnd.jupyter.widget-view+json": {
       "model_id": "037e4f26e3ba4b588f6fb2f7c45a9e4c",
       "version_major": 2,
       "version_minor": 0
      },
      "text/plain": [
       "Downloading:   0%|          | 0.00/13.1k [00:00<?, ?B/s]"
      ]
     },
     "metadata": {},
     "output_type": "display_data"
    },
    {
     "data": {
      "application/vnd.jupyter.widget-view+json": {
       "model_id": "e790f07e8ac745969fa39d4902b39873",
       "version_major": 2,
       "version_minor": 0
      },
      "text/plain": [
       "Downloading:   0%|          | 0.00/232k [00:00<?, ?B/s]"
      ]
     },
     "metadata": {},
     "output_type": "display_data"
    },
    {
     "data": {
      "application/vnd.jupyter.widget-view+json": {
       "model_id": "3ce621a6293f4fef879c2451b414a0e8",
       "version_major": 2,
       "version_minor": 0
      },
      "text/plain": [
       "Downloading:   0%|          | 0.00/349 [00:00<?, ?B/s]"
      ]
     },
     "metadata": {},
     "output_type": "display_data"
    }
   ],
   "source": [
    "#Load the model\n",
    "model = SentenceTransformer('sentence-transformers/all-mpnet-base-v2')"
   ]
  },
  {
   "cell_type": "code",
   "execution_count": 29,
   "id": "e1262e78-e686-428e-af6a-9e28cfac4aa1",
   "metadata": {},
   "outputs": [],
   "source": [
    "results = model.encode(train_abstract)\n",
    "np.save('./data/embeddings_mpnet.npy', results)"
   ]
  },
  {
   "cell_type": "code",
   "execution_count": 147,
   "id": "5ee8ff92-74e4-490c-baf3-8dfccebc325f",
   "metadata": {},
   "outputs": [],
   "source": [
    "def most_simitar(text:str, docs:List[str] = train_abstract, ticket_numbers: List[int] = ticket_number, k_most_simillar:int = 5):\n",
    "    print(f\"Your query is: {text}\")\n",
    "    print(\"-\" * 3 * len(text))\n",
    "    \n",
    "    query = model.encode(text)\n",
    "    docs_embed = model.encode(docs)\n",
    "    \n",
    "    scores = util.cos_sim(query, docs_embed)[0].cpu().tolist()\n",
    "    \n",
    "    doc_score_pairs = list(zip(docs, scores, ticket_numbers))\n",
    "    doc_score_pairs = sorted(doc_score_pairs, key=lambda x: x[1], reverse=True)\n",
    "    \n",
    "    for doc, score, ticket in doc_score_pairs[:k_most_simillar]:\n",
    "        print(f\"The most simillar ticket is: {doc} -- with {round(score,4)} -- number of tickets is {ticket}\") "
   ]
  },
  {
   "cell_type": "code",
   "execution_count": 148,
   "id": "6df522ef-a883-4f65-b94c-aae9b80e1e45",
   "metadata": {},
   "outputs": [
    {
     "name": "stdout",
     "output_type": "stream",
     "text": [
      "Your query is: Order me some pizza\n",
      "---------------------------------------------------------\n",
      "The most simillar ticket is: Orders Issued -- with 0.3476 -- number of tickets is 301662522\n",
      "The most simillar ticket is: Order Missing  -- with 0.2674 -- number of tickets is 313374392\n",
      "The most simillar ticket is: Please assign this request to Derek Pang -- with 0.2668 -- number of tickets is 307262726\n",
      "The most simillar ticket is: Missing Order  -- with 0.2476 -- number of tickets is 309374247\n",
      "The most simillar ticket is: 9 orders need to be removed from the Pending RIB report - they are either complete or have been canceled. -- with 0.2393 -- number of tickets is 312301539\n"
     ]
    }
   ],
   "source": [
    "most_simitar(\"Order me some pizza\")"
   ]
  }
 ],
 "metadata": {
  "kernelspec": {
   "display_name": "Python 3 (ipykernel)",
   "language": "python",
   "name": "python3"
  },
  "language_info": {
   "codemirror_mode": {
    "name": "ipython",
    "version": 3
   },
   "file_extension": ".py",
   "mimetype": "text/x-python",
   "name": "python",
   "nbconvert_exporter": "python",
   "pygments_lexer": "ipython3",
   "version": "3.9.13"
  }
 },
 "nbformat": 4,
 "nbformat_minor": 5
}
