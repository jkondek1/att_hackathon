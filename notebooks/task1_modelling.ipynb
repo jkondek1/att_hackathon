{
 "cells": [
  {
   "cell_type": "code",
   "execution_count": 1,
   "id": "2c8b3fff",
   "metadata": {
    "id": "2c8b3fff"
   },
   "outputs": [],
   "source": [
    "import os\n",
    "import pandas as pd\n",
    "from sklearn.model_selection import train_test_split\n",
    "from sklearn.feature_extraction.text import TfidfVectorizer, CountVectorizer\n",
    "from sklearn.preprocessing import LabelEncoder\n",
    "from sklearn.metrics import classification_report\n",
    "data_folder = '../datasets'"
   ]
  },
  {
   "cell_type": "code",
   "execution_count": 2,
   "id": "Uub4cJ2TcTNM",
   "metadata": {
    "id": "Uub4cJ2TcTNM"
   },
   "outputs": [],
   "source": [
    "#_file = 'ML_DATASET_Hackathon_Supervised.csv'\n",
    "_file = 'version_2.csv'"
   ]
  },
  {
   "cell_type": "code",
   "execution_count": 3,
   "id": "PtqRLhjVGiah",
   "metadata": {
    "id": "PtqRLhjVGiah"
   },
   "outputs": [],
   "source": [
    "def load_file(path):\n",
    "  df = pd.read_csv(path)\n",
    "  return df\n",
    "\n",
    "def create_anomaly_group(df, cutoff):\n",
    "  df.loc[data['percentile'] > cutoff,'Team'] = 'ANOMALIES'\n",
    "  return df\n",
    "\n",
    "def get_non_stratifiable(df, count):\n",
    "  counts = pd.DataFrame(df.Team.value_counts()).reset_index()\n",
    "  non_stratifiable = list(counts[counts['Team'] < count]['index'])\n",
    "  data_to_strat = df[~df.Team.isin(non_stratifiable)]\n",
    "  extra = df[df.Team.isin(non_stratifiable)]\n",
    "  return extra, data_to_strat\n",
    "\n",
    "def merge_non_stratified_with_train(x_train, y_train, extra):\n",
    "    x_train = pd.concat([x_train,extra[['Problem_Abstract']]], axis=0)\n",
    "    y_train = pd.concat([y_train,extra[['Team']]], axis=0)\n",
    "    return x_train, y_train"
   ]
  },
  {
   "cell_type": "code",
   "execution_count": 4,
   "id": "5zUq8FDBfgjN",
   "metadata": {
    "id": "5zUq8FDBfgjN"
   },
   "outputs": [],
   "source": [
    "data = load_file(os.path.join(data_folder, _file))\n",
    "data = data.fillna('')\n",
    "data = create_anomaly_group(data, 0.8)\n",
    "#extra, data_to_strat = get_non_stratifiable(data, 2)\n",
    "x_train, x_test, y_train, y_test = train_test_split(data[['Problem_Abstract']], \n",
    "                                                    data[['Team']], \n",
    "                                                    test_size=0.2, \n",
    "                                                    stratify=data[['Team']])\n",
    "#x_train, y_train = merge_non_stratified_with_train(x_train, y_train, extra)"
   ]
  },
  {
   "cell_type": "code",
   "execution_count": 5,
   "id": "qqghqNgHsFoN",
   "metadata": {
    "colab": {
     "base_uri": "https://localhost:8080/"
    },
    "id": "qqghqNgHsFoN",
    "outputId": "c1a99176-4a79-4255-9092-fc76282b906c"
   },
   "outputs": [
    {
     "data": {
      "text/plain": [
       "ANOMALIES                                       968\n",
       "SMARTS/GFP_CPE                                  684\n",
       "GTAC                                            601\n",
       "Unified Desktop (UD)                            524\n",
       "GTAC - Account issues, password change          425\n",
       "GTAC - Other                                    383\n",
       "CISCO ISE - Network Device Update/Add/Delete    278\n",
       "Global Delivery Data & Analytics                231\n",
       "Cisco ISE                                       155\n",
       "VitalNet Problems or Errors                     134\n",
       "Cisco ISE - Other                                79\n",
       "GTAC - Audit or GTAC report data                 77\n",
       "TRUE (Ticket Rules Update Engine)                72\n",
       "NagiosXI                                         66\n",
       "Express Ticketing                                64\n",
       "Name: Team, dtype: int64"
      ]
     },
     "execution_count": 5,
     "metadata": {},
     "output_type": "execute_result"
    }
   ],
   "source": [
    "data.Team.value_counts()"
   ]
  },
  {
   "cell_type": "code",
   "execution_count": 6,
   "id": "f439de6b",
   "metadata": {
    "colab": {
     "base_uri": "https://localhost:8080/"
    },
    "id": "f439de6b",
    "outputId": "65155c24-1bc7-4d4b-caba-40dd38e05821"
   },
   "outputs": [
    {
     "name": "stderr",
     "output_type": "stream",
     "text": [
      "/usr/local/lib/python3.8/dist-packages/sklearn/preprocessing/_label.py:115: DataConversionWarning: A column-vector y was passed when a 1d array was expected. Please change the shape of y to (n_samples, ), for example using ravel().\n",
      "  y = column_or_1d(y, warn=True)\n",
      "/usr/local/lib/python3.8/dist-packages/sklearn/preprocessing/_label.py:133: DataConversionWarning: A column-vector y was passed when a 1d array was expected. Please change the shape of y to (n_samples, ), for example using ravel().\n",
      "  y = column_or_1d(y, warn=True)\n"
     ]
    }
   ],
   "source": [
    "### EXPERIMENTING WITH TFIDF\n",
    "vect = TfidfVectorizer(strip_accents='unicode',\n",
    "                      stop_words='english',\n",
    "                      ngram_range=(1,5))\n",
    "vect.fit(x_train.fillna('').Problem_Abstract)\n",
    "x_train = vect.transform(x_train.fillna('').Problem_Abstract)\n",
    "x_test = vect.transform(x_test.fillna('').Problem_Abstract)\n",
    "le = LabelEncoder()\n",
    "y_train = le.fit_transform(y_train)\n",
    "y_test = le.transform(y_test)"
   ]
  },
  {
   "cell_type": "code",
   "execution_count": null,
   "id": "S-tzF7Dzn8pr",
   "metadata": {
    "colab": {
     "base_uri": "https://localhost:8080/"
    },
    "id": "S-tzF7Dzn8pr",
    "outputId": "699700ed-2b4b-4303-a7cc-f86a611a8e99"
   },
   "outputs": [
    {
     "name": "stdout",
     "output_type": "stream",
     "text": [
      "Learning rate set to 0.151751\n",
      "0:\tlearn: 2.3885462\ttotal: 358ms\tremaining: 2m 58s\n",
      "1:\tlearn: 2.2178224\ttotal: 619ms\tremaining: 2m 34s\n",
      "2:\tlearn: 2.0976619\ttotal: 780ms\tremaining: 2m 9s\n",
      "3:\tlearn: 2.0144240\ttotal: 1.02s\tremaining: 2m 7s\n",
      "4:\tlearn: 1.9430293\ttotal: 1.15s\tremaining: 1m 54s\n",
      "5:\tlearn: 1.8977370\ttotal: 1.25s\tremaining: 1m 42s\n",
      "6:\tlearn: 1.8530776\ttotal: 1.35s\tremaining: 1m 35s\n",
      "7:\tlearn: 1.8169623\ttotal: 1.43s\tremaining: 1m 27s\n",
      "8:\tlearn: 1.7832002\ttotal: 1.52s\tremaining: 1m 23s\n",
      "9:\tlearn: 1.7562547\ttotal: 1.66s\tremaining: 1m 21s\n",
      "10:\tlearn: 1.7349771\ttotal: 1.86s\tremaining: 1m 22s\n",
      "11:\tlearn: 1.7105458\ttotal: 2.09s\tremaining: 1m 24s\n",
      "12:\tlearn: 1.6938744\ttotal: 2.25s\tremaining: 1m 24s\n",
      "13:\tlearn: 1.6758172\ttotal: 2.39s\tremaining: 1m 23s\n",
      "14:\tlearn: 1.6609677\ttotal: 2.5s\tremaining: 1m 20s\n",
      "15:\tlearn: 1.6451891\ttotal: 2.62s\tremaining: 1m 19s\n",
      "16:\tlearn: 1.6284875\ttotal: 2.75s\tremaining: 1m 18s\n",
      "17:\tlearn: 1.6184977\ttotal: 2.91s\tremaining: 1m 17s\n",
      "18:\tlearn: 1.6093154\ttotal: 3.02s\tremaining: 1m 16s\n",
      "19:\tlearn: 1.6003327\ttotal: 3.19s\tremaining: 1m 16s\n",
      "20:\tlearn: 1.5879898\ttotal: 3.34s\tremaining: 1m 16s\n",
      "21:\tlearn: 1.5811829\ttotal: 3.47s\tremaining: 1m 15s\n",
      "22:\tlearn: 1.5690179\ttotal: 3.62s\tremaining: 1m 15s\n"
     ]
    }
   ],
   "source": [
    "from catboost import CatBoostClassifier\n",
    "#import xgboost as xgb\n",
    "#classifier = xgb.XGBClassifier(n_jobs=8, n_estimators=100, verbosity=3)\n",
    "classifier = CatBoostClassifier(task_type='GPU', iterations=500)\n",
    "classifier.fit(x_train, y_train)"
   ]
  },
  {
   "cell_type": "code",
   "execution_count": null,
   "id": "xxW58kQv2slV",
   "metadata": {
    "id": "xxW58kQv2slV"
   },
   "outputs": [],
   "source": [
    "classifier.save_model('../models/class_model.cbm')"
   ]
  },
  {
   "cell_type": "code",
   "execution_count": null,
   "id": "cYIPv-m4oBCd",
   "metadata": {
    "id": "cYIPv-m4oBCd"
   },
   "outputs": [],
   "source": [
    "y_predicted = classifier.predict(x_test)\n",
    "from sklearn.metrics import classification_report\n",
    "print(classification_report(y_predicted, y_test))"
   ]
  },
  {
   "cell_type": "code",
   "execution_count": null,
   "id": "MlikReHdpFGS",
   "metadata": {
    "id": "MlikReHdpFGS"
   },
   "outputs": [],
   "source": [
    "#possible extension with calibratedclassifier\n",
    "from sklearn.calibration import CalibratedClassifierCV\n",
    "base_clf = CatBoostClassifier(iterations=500)\n",
    "calibrated_clf = CalibratedClassifierCV(base_clf, cv=3)\n",
    "calibrated_clf.fit(x_train, y_train)\n",
    "\n",
    "y_predicted = classifier.predict(x_test)\n",
    "y_predicted_proba = classifier.predict_proba(x_test)\n"
   ]
  },
  {
   "cell_type": "code",
   "execution_count": null,
   "id": "7FqGuzHt2WAB",
   "metadata": {
    "id": "7FqGuzHt2WAB"
   },
   "outputs": [],
   "source": [
    "#alternative solution using language model all-mpnet-base-v2 (not as effective)\n",
    "import numpy as np\n",
    "emb_path = '../data/embeddings_mpnet_v2.npy'\n",
    "embedding = np.load(emb_path)\n",
    "\n",
    "x_train = embedding[y_train.index]\n",
    "x_test = embedding[y_test.index]\n",
    "\n",
    "le = LabelEncoder()\n",
    "y_train = le.fit_transform(y_train)\n",
    "y_test = le.transform(y_test)"
   ]
  }
 ],
 "metadata": {
  "accelerator": "GPU",
  "colab": {
   "provenance": []
  },
  "gpuClass": "standard",
  "kernelspec": {
   "display_name": "experiment",
   "language": "python",
   "name": "experiment"
  },
  "language_info": {
   "codemirror_mode": {
    "name": "ipython",
    "version": 3
   },
   "file_extension": ".py",
   "mimetype": "text/x-python",
   "name": "python",
   "nbconvert_exporter": "python",
   "pygments_lexer": "ipython3",
   "version": "3.8.10"
  }
 },
 "nbformat": 4,
 "nbformat_minor": 5
}
