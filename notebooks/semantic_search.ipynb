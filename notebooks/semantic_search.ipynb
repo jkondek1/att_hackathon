{
 "cells": [
  {
   "cell_type": "code",
   "execution_count": 85,
   "id": "0943afc4-1f94-4adc-8351-2879bcde6cec",
   "metadata": {},
   "outputs": [],
   "source": [
    "from sentence_transformers import SentenceTransformer, util\n",
    "\n",
    "import pandas as pd\n",
    "import numpy as np\n",
    "from typing import List\n",
    "\n",
    "#Load the model\n",
    "model = SentenceTransformer('sentence-transformers/all-mpnet-base-v2')"
   ]
  },
  {
   "cell_type": "code",
   "execution_count": 86,
   "id": "bf48ae0a-86c8-4484-bd59-6361e56fdbc0",
   "metadata": {},
   "outputs": [],
   "source": [
    "def _file_load(file_path:str):\n",
    "    return pd.read_csv(file_path)\n",
    "\n",
    "def _compute_scores(query, docs_embed):\n",
    "    return util.cos_sim(query, docs_embed)[0].cpu().tolist()\n",
    "\n",
    "def _print_results(doc:str, score:str, ticket:str):\n",
    "    print(f\"The most simillar ticket is: {doc} -- with {round(score, 4)} -- number of tickets is {ticket}\")\n",
    "    \n",
    "def _model_predict(text:List[str]):\n",
    "    return model.encode(text)   "
   ]
  },
  {
   "cell_type": "code",
   "execution_count": 87,
   "id": "bbcb3766-7a8c-4390-b592-aadde40d48dc",
   "metadata": {},
   "outputs": [],
   "source": [
    "def most_similar(query: str, docs: List[str] = train_abstract, ticket_numbers: List[int] = ticket_number,\n",
    "                 k_most_simillar: int = 5, docs_embed = None):\n",
    "    \n",
    "    print(f\"Your query is: '{query}'\")\n",
    "\n",
    "    query_embed = _model_predict(query)\n",
    "    if docs_embed is None:\n",
    "        docs_embed = _model_predict(docs)\n",
    "\n",
    "    try:\n",
    "        scores = _compute_scores(query_embed, docs_embed)\n",
    "    except:\n",
    "        raise ValueError(\"You have to set up 'docs_embed' parameter\")\n",
    "        \n",
    "    doc_score_pairs = list(zip(docs, scores, ticket_numbers))\n",
    "    doc_score_pairs = sorted(doc_score_pairs, key=lambda x: x[1], reverse=True)\n",
    "\n",
    "    for doc, score, ticket in doc_score_pairs[:k_most_simillar]:\n",
    "        _print_results(doc, score, ticket)"
   ]
  },
  {
   "cell_type": "code",
   "execution_count": 88,
   "id": "5e800433-4c9d-44f5-bebb-773ac51c24ba",
   "metadata": {},
   "outputs": [],
   "source": [
    "file_path = '../datasets/ML_DATASET_Hackathon_Supervised.csv'\n",
    "embed_path = '../data/embeddings_mpnet.npy'\n",
    "\n",
    "\n",
    "docs_embeddings = np.load(embed_path)\n",
    "df = _file_load(file_path)\n",
    "\n",
    "abstracts = df['Problem_Abstract'].to_list()\n",
    "ticket_n = df['Ticket'].to_list()"
   ]
  },
  {
   "cell_type": "code",
   "execution_count": 91,
   "id": "a9afb7c9-1531-472a-9bc7-d271ecd2945b",
   "metadata": {},
   "outputs": [
    {
     "name": "stdout",
     "output_type": "stream",
     "text": [
      "Your query is: 'Order me some pizza'\n",
      "The most simillar ticket is: Orders Issued -- with 0.3476 -- number of tickets is 301662522\n",
      "The most simillar ticket is: Order Missing  -- with 0.2674 -- number of tickets is 313374392\n",
      "The most simillar ticket is: Please assign this request to Derek Pang -- with 0.2668 -- number of tickets is 307262726\n",
      "The most simillar ticket is: Missing Order  -- with 0.2476 -- number of tickets is 309374247\n",
      "The most simillar ticket is: 9 orders need to be removed from the Pending RIB report - they are either complete or have been canceled. -- with 0.2393 -- number of tickets is 312301539\n"
     ]
    }
   ],
   "source": [
    "query = \"Order me some pizza\"\n",
    "\n",
    "most_similar(query, abstracts, ticket_n, 5, docs_embeddings)"
   ]
  }
 ],
 "metadata": {
  "kernelspec": {
   "display_name": "Python 3 (ipykernel)",
   "language": "python",
   "name": "python3"
  },
  "language_info": {
   "codemirror_mode": {
    "name": "ipython",
    "version": 3
   },
   "file_extension": ".py",
   "mimetype": "text/x-python",
   "name": "python",
   "nbconvert_exporter": "python",
   "pygments_lexer": "ipython3",
   "version": "3.9.13"
  }
 },
 "nbformat": 4,
 "nbformat_minor": 5
}
