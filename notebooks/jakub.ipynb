{
 "cells": [
  {
   "cell_type": "code",
   "execution_count": 1,
   "id": "2c8b3fff",
   "metadata": {},
   "outputs": [],
   "source": [
    "import os\n",
    "import pandas as pd\n",
    "data_folder = '../datasets'"
   ]
  },
  {
   "cell_type": "code",
   "execution_count": 2,
   "id": "53407344",
   "metadata": {},
   "outputs": [],
   "source": [
    "file = 'ML_DATASET_Hackathon_Supervised.csv'"
   ]
  },
  {
   "cell_type": "code",
   "execution_count": 3,
   "id": "9b323386",
   "metadata": {},
   "outputs": [],
   "source": [
    "data = pd.read_csv(os.path.join(data_folder, file))"
   ]
  },
  {
   "cell_type": "code",
   "execution_count": 4,
   "id": "f9cbde2f",
   "metadata": {},
   "outputs": [
    {
     "data": {
      "text/plain": [
       "\"[Ver. 8] MPLS cloud in path trace - can't see specific devices\""
      ]
     },
     "execution_count": 4,
     "metadata": {},
     "output_type": "execute_result"
    }
   ],
   "source": [
    "data.Problem_Abstract[100]"
   ]
  },
  {
   "cell_type": "code",
   "execution_count": 5,
   "id": "96b7fb22",
   "metadata": {},
   "outputs": [],
   "source": [
    "import sklearn"
   ]
  },
  {
   "cell_type": "code",
   "execution_count": 8,
   "id": "f439de6b",
   "metadata": {},
   "outputs": [],
   "source": [
    "from sklearn.feature_extraction.text import TfidfVectorizer"
   ]
  },
  {
   "cell_type": "code",
   "execution_count": null,
   "id": "d0573d16",
   "metadata": {},
   "outputs": [],
   "source": []
  }
 ],
 "metadata": {
  "kernelspec": {
   "display_name": "experiment",
   "language": "python",
   "name": "experiment"
  },
  "language_info": {
   "codemirror_mode": {
    "name": "ipython",
    "version": 3
   },
   "file_extension": ".py",
   "mimetype": "text/x-python",
   "name": "python",
   "nbconvert_exporter": "python",
   "pygments_lexer": "ipython3",
   "version": "3.8.10"
  }
 },
 "nbformat": 4,
 "nbformat_minor": 5
}
