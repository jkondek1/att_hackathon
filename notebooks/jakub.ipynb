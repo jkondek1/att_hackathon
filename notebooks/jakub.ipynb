{
  "cells": [
    {
      "cell_type": "code",
      "execution_count": 1,
      "id": "2c8b3fff",
      "metadata": {
        "id": "2c8b3fff"
      },
      "outputs": [],
      "source": [
        "import os\n",
        "import pandas as pd\n",
        "from sklearn.model_selection import train_test_split\n",
        "from sklearn.feature_extraction.text import TfidfVectorizer\n",
        "from sklearn.preprocessing import LabelEncoder\n",
        "from sklearn.metrics import classification_report\n",
        "data_folder = 'att_hackathon/datasets'"
      ]
    },
    {
      "cell_type": "code",
      "source": [
        "#_file = 'ML_DATASET_Hackathon_Supervised.csv'\n",
        "_file = 'version_2.xls'"
      ],
      "metadata": {
        "id": "Uub4cJ2TcTNM"
      },
      "id": "Uub4cJ2TcTNM",
      "execution_count": null,
      "outputs": []
    },
    {
      "cell_type": "code",
      "source": [
        "def load_file(path):\n",
        "  df = pd.read_excel(path)\n",
        "  return df\n",
        "\n",
        "def select_cutoff(df, cutoff):\n",
        "  df = df[df['percentile'] <= cutoff]\n",
        "  return df\n",
        "\n",
        "def get_non_stratifiable(df, count):\n",
        "  counts = pd.DataFrame(df.Team.value_counts()).reset_index()\n",
        "  non_stratifiable = list(counts[counts['Team'] < count]['index'])\n",
        "  data_to_strat = df[~df.Team.isin(non_stratifiable)]\n",
        "  extra = df[df.Team.isin(non_stratifiable)]\n",
        "  return extra\n",
        "\n",
        "def merge_non_stratified_with_train(x_train, y_train, extra):\n",
        "    x_train = pd.concat([x_train,extra[['Problem_Abstract']]], axis=0)\n",
        "    y_train = pd.concat([y_train,extra[['Team']]], axis=0)\n",
        "    return x_train, y_train"
      ],
      "metadata": {
        "id": "PtqRLhjVGiah"
      },
      "id": "PtqRLhjVGiah",
      "execution_count": 16,
      "outputs": []
    },
    {
      "cell_type": "code",
      "execution_count": 8,
      "id": "f577bb14",
      "metadata": {
        "id": "f577bb14"
      },
      "outputs": [],
      "source": [
        "x_train, x_test, y_train, y_test = train_test_split(data_to_strat[['Problem_Abstract']], \n",
        "                                                    data_to_strat[['Team']], \n",
        "                                                    test_size=0.1, \n",
        "                                                    stratify=data_to_strat[['Team']])"
      ]
    },
    {
      "cell_type": "code",
      "execution_count": 8,
      "id": "f439de6b",
      "metadata": {
        "id": "f439de6b",
        "outputId": "726475f9-6e63-4365-a24d-18a88483af01",
        "colab": {
          "base_uri": "https://localhost:8080/"
        }
      },
      "outputs": [
        {
          "output_type": "execute_result",
          "data": {
            "text/plain": [
              "TfidfVectorizer(ngram_range=(1, 5), stop_words='english',\n",
              "                strip_accents='unicode')"
            ]
          },
          "metadata": {},
          "execution_count": 8
        }
      ],
      "source": [
        "### EXPERIMENTING WITH TFIDF\n",
        "vect = TfidfVectorizer(strip_accents='unicode',\n",
        "                      stop_words='english',\n",
        "                      ngram_range=(1,5))\n",
        "vect.fit(x_train.fillna('').Problem_Abstract)\n",
        "x_train = vect.transform(x_train.fillna('').Problem_Abstract)\n",
        "x_test = vect.transform(x_test.fillna('').Problem_Abstract)\n",
        "le = LabelEncoder()\n",
        "y_train = le.fit_transform(y_train)\n",
        "y_test = le.transform(y_test)"
      ]
    },
    {
      "cell_type": "markdown",
      "id": "4996a375",
      "metadata": {
        "id": "4996a375"
      },
      "source": [
        "### using embeddings"
      ]
    },
    {
      "cell_type": "code",
      "execution_count": 9,
      "id": "d0573d16",
      "metadata": {
        "id": "d0573d16"
      },
      "outputs": [],
      "source": [
        "import numpy as np\n",
        "emb_path = 'att_hackathon/data/embeddings_mpnet.npy'\n",
        "embedding = np.load(emb_path)"
      ]
    },
    {
      "cell_type": "code",
      "source": [
        "x_train.shape[0] + x_test.shape[0]"
      ],
      "metadata": {
        "id": "7tbYxLywKKYY",
        "outputId": "6e79b633-7a1e-445d-8515-0187f53a09a8",
        "colab": {
          "base_uri": "https://localhost:8080/"
        }
      },
      "id": "7tbYxLywKKYY",
      "execution_count": 10,
      "outputs": [
        {
          "output_type": "execute_result",
          "data": {
            "text/plain": [
              "4713"
            ]
          },
          "metadata": {},
          "execution_count": 10
        }
      ]
    },
    {
      "cell_type": "code",
      "execution_count": 76,
      "id": "6bc65e35",
      "metadata": {
        "id": "6bc65e35"
      },
      "outputs": [],
      "source": [
        "y = data[['Team']]"
      ]
    },
    {
      "cell_type": "code",
      "execution_count": 77,
      "id": "b12a33d0",
      "metadata": {
        "id": "b12a33d0"
      },
      "outputs": [],
      "source": [
        "y_train, y_test = train_test_split(y, test_size=0.1, stratify=y['Team'])"
      ]
    },
    {
      "cell_type": "code",
      "source": [
        "y_train.shape[0] + y_test.shape[0]"
      ],
      "metadata": {
        "id": "gZcf8cr6LvYe",
        "outputId": "490338a4-2330-4829-916f-b99a50a83cc2",
        "colab": {
          "base_uri": "https://localhost:8080/"
        }
      },
      "id": "gZcf8cr6LvYe",
      "execution_count": 79,
      "outputs": [
        {
          "output_type": "execute_result",
          "data": {
            "text/plain": [
              "4641"
            ]
          },
          "metadata": {},
          "execution_count": 79
        }
      ]
    },
    {
      "cell_type": "code",
      "execution_count": 11,
      "id": "67add138",
      "metadata": {
        "id": "67add138",
        "outputId": "097e450b-cbec-4365-c0a7-c4db433a6e20",
        "colab": {
          "base_uri": "https://localhost:8080/"
        }
      },
      "outputs": [
        {
          "output_type": "stream",
          "name": "stderr",
          "text": [
            "/usr/local/lib/python3.8/dist-packages/sklearn/preprocessing/_label.py:115: DataConversionWarning: A column-vector y was passed when a 1d array was expected. Please change the shape of y to (n_samples, ), for example using ravel().\n",
            "  y = column_or_1d(y, warn=True)\n",
            "/usr/local/lib/python3.8/dist-packages/sklearn/preprocessing/_label.py:133: DataConversionWarning: A column-vector y was passed when a 1d array was expected. Please change the shape of y to (n_samples, ), for example using ravel().\n",
            "  y = column_or_1d(y, warn=True)\n"
          ]
        }
      ],
      "source": [
        "x_train = embedding[y_train.index]\n",
        "x_test = embedding[y_test.index]\n",
        "\n",
        "x_train = np.concatenate((x_train,embedding[extra['Problem_Abstract'].index]))\n",
        "y_train = pd.concat([y_train,extra[['Team']]], axis=0)\n",
        "\n",
        "\n",
        "from sklearn.preprocessing import LabelEncoder\n",
        "le = LabelEncoder()\n",
        "y_train = le.fit_transform(y_train)\n",
        "y_test = le.transform(y_test)"
      ]
    },
    {
      "cell_type": "code",
      "source": [],
      "metadata": {
        "id": "wrrMo4hcZje7"
      },
      "id": "wrrMo4hcZje7",
      "execution_count": null,
      "outputs": []
    },
    {
      "cell_type": "code",
      "source": [
        "y_train.shape"
      ],
      "metadata": {
        "id": "925F06tFMV71",
        "outputId": "67e6c678-f23e-4098-db09-b78b2303fb81",
        "colab": {
          "base_uri": "https://localhost:8080/"
        }
      },
      "id": "925F06tFMV71",
      "execution_count": 50,
      "outputs": [
        {
          "output_type": "execute_result",
          "data": {
            "text/plain": [
              "(4176,)"
            ]
          },
          "metadata": {},
          "execution_count": 50
        }
      ]
    },
    {
      "cell_type": "code",
      "execution_count": 12,
      "id": "3cff7626",
      "metadata": {
        "id": "3cff7626",
        "outputId": "cb6ddddd-fe33-4a33-f764-17c8a75c4dd7",
        "colab": {
          "base_uri": "https://localhost:8080/"
        }
      },
      "outputs": [
        {
          "output_type": "stream",
          "name": "stdout",
          "text": [
            "Learning rate set to 0.155463\n",
            "0:\tlearn: 4.2985138\ttotal: 517ms\tremaining: 4m 18s\n",
            "1:\tlearn: 4.0145238\ttotal: 882ms\tremaining: 3m 39s\n",
            "2:\tlearn: 3.7803773\ttotal: 1.23s\tremaining: 3m 23s\n",
            "3:\tlearn: 3.6324453\ttotal: 1.61s\tremaining: 3m 19s\n",
            "4:\tlearn: 3.5139059\ttotal: 1.97s\tremaining: 3m 15s\n",
            "5:\tlearn: 3.4192841\ttotal: 2.35s\tremaining: 3m 13s\n",
            "6:\tlearn: 3.3376369\ttotal: 2.69s\tremaining: 3m 9s\n",
            "7:\tlearn: 3.2703511\ttotal: 3.06s\tremaining: 3m 8s\n",
            "8:\tlearn: 3.2141463\ttotal: 3.41s\tremaining: 3m 5s\n",
            "9:\tlearn: 3.1645642\ttotal: 3.78s\tremaining: 3m 5s\n",
            "10:\tlearn: 3.1209350\ttotal: 4.17s\tremaining: 3m 5s\n",
            "11:\tlearn: 3.0825407\ttotal: 4.54s\tremaining: 3m 4s\n",
            "12:\tlearn: 3.0458804\ttotal: 5s\tremaining: 3m 7s\n",
            "13:\tlearn: 3.0138967\ttotal: 5.46s\tremaining: 3m 9s\n",
            "14:\tlearn: 2.9816594\ttotal: 5.97s\tremaining: 3m 12s\n",
            "15:\tlearn: 2.9542441\ttotal: 6.36s\tremaining: 3m 12s\n",
            "16:\tlearn: 2.9264430\ttotal: 6.83s\tremaining: 3m 14s\n",
            "17:\tlearn: 2.8980534\ttotal: 7.31s\tremaining: 3m 15s\n",
            "18:\tlearn: 2.8715341\ttotal: 7.77s\tremaining: 3m 16s\n",
            "19:\tlearn: 2.8501570\ttotal: 8.27s\tremaining: 3m 18s\n",
            "20:\tlearn: 2.8296641\ttotal: 8.71s\tremaining: 3m 18s\n",
            "21:\tlearn: 2.8092409\ttotal: 9.19s\tremaining: 3m 19s\n",
            "22:\tlearn: 2.7892364\ttotal: 9.6s\tremaining: 3m 19s\n",
            "23:\tlearn: 2.7660702\ttotal: 10.1s\tremaining: 3m 21s\n",
            "24:\tlearn: 2.7474727\ttotal: 10.7s\tremaining: 3m 22s\n",
            "25:\tlearn: 2.7297294\ttotal: 11.1s\tremaining: 3m 22s\n",
            "26:\tlearn: 2.7119488\ttotal: 11.5s\tremaining: 3m 21s\n",
            "27:\tlearn: 2.6901662\ttotal: 11.9s\tremaining: 3m 21s\n",
            "28:\tlearn: 2.6720340\ttotal: 12.3s\tremaining: 3m 19s\n",
            "29:\tlearn: 2.6518988\ttotal: 12.7s\tremaining: 3m 18s\n",
            "30:\tlearn: 2.6347894\ttotal: 13.1s\tremaining: 3m 17s\n",
            "31:\tlearn: 2.6165321\ttotal: 13.4s\tremaining: 3m 16s\n",
            "32:\tlearn: 2.5992630\ttotal: 13.8s\tremaining: 3m 15s\n",
            "33:\tlearn: 2.5828811\ttotal: 14.2s\tremaining: 3m 14s\n",
            "34:\tlearn: 2.5666423\ttotal: 14.5s\tremaining: 3m 13s\n",
            "35:\tlearn: 2.5516967\ttotal: 14.9s\tremaining: 3m 11s\n",
            "36:\tlearn: 2.5356424\ttotal: 15.2s\tremaining: 3m 10s\n",
            "37:\tlearn: 2.5210406\ttotal: 15.6s\tremaining: 3m 9s\n",
            "38:\tlearn: 2.5085354\ttotal: 15.9s\tremaining: 3m 7s\n",
            "39:\tlearn: 2.4894827\ttotal: 16.3s\tremaining: 3m 7s\n",
            "40:\tlearn: 2.4726082\ttotal: 16.6s\tremaining: 3m 5s\n",
            "41:\tlearn: 2.4599863\ttotal: 16.9s\tremaining: 3m 4s\n",
            "42:\tlearn: 2.4476392\ttotal: 17.3s\tremaining: 3m 3s\n",
            "43:\tlearn: 2.4323521\ttotal: 17.6s\tremaining: 3m 2s\n",
            "44:\tlearn: 2.4131420\ttotal: 18s\tremaining: 3m 2s\n",
            "45:\tlearn: 2.3955632\ttotal: 18.4s\tremaining: 3m 1s\n",
            "46:\tlearn: 2.3810348\ttotal: 18.7s\tremaining: 3m\n",
            "47:\tlearn: 2.3687785\ttotal: 19s\tremaining: 2m 59s\n",
            "48:\tlearn: 2.3527056\ttotal: 19.4s\tremaining: 2m 58s\n",
            "49:\tlearn: 2.3373581\ttotal: 19.7s\tremaining: 2m 57s\n",
            "50:\tlearn: 2.3233609\ttotal: 20.1s\tremaining: 2m 56s\n",
            "51:\tlearn: 2.3087299\ttotal: 20.5s\tremaining: 2m 56s\n",
            "52:\tlearn: 2.2957170\ttotal: 20.8s\tremaining: 2m 55s\n",
            "53:\tlearn: 2.2830370\ttotal: 21.2s\tremaining: 2m 54s\n",
            "54:\tlearn: 2.2692142\ttotal: 21.5s\tremaining: 2m 54s\n",
            "55:\tlearn: 2.2556226\ttotal: 21.9s\tremaining: 2m 53s\n",
            "56:\tlearn: 2.2421061\ttotal: 22.2s\tremaining: 2m 52s\n",
            "57:\tlearn: 2.2317637\ttotal: 22.5s\tremaining: 2m 51s\n",
            "58:\tlearn: 2.2164473\ttotal: 22.9s\tremaining: 2m 50s\n",
            "59:\tlearn: 2.2018600\ttotal: 23.2s\tremaining: 2m 50s\n",
            "60:\tlearn: 2.1863269\ttotal: 23.6s\tremaining: 2m 49s\n",
            "61:\tlearn: 2.1746187\ttotal: 23.9s\tremaining: 2m 49s\n",
            "62:\tlearn: 2.1658189\ttotal: 24.3s\tremaining: 2m 48s\n",
            "63:\tlearn: 2.1550975\ttotal: 24.6s\tremaining: 2m 47s\n",
            "64:\tlearn: 2.1406465\ttotal: 25s\tremaining: 2m 47s\n",
            "65:\tlearn: 2.1258329\ttotal: 25.3s\tremaining: 2m 46s\n",
            "66:\tlearn: 2.1143530\ttotal: 25.6s\tremaining: 2m 45s\n",
            "67:\tlearn: 2.1019532\ttotal: 26s\tremaining: 2m 45s\n",
            "68:\tlearn: 2.0940419\ttotal: 26.3s\tremaining: 2m 44s\n",
            "69:\tlearn: 2.0832672\ttotal: 26.6s\tremaining: 2m 43s\n",
            "70:\tlearn: 2.0705868\ttotal: 26.9s\tremaining: 2m 42s\n",
            "71:\tlearn: 2.0597977\ttotal: 27.3s\tremaining: 2m 42s\n",
            "72:\tlearn: 2.0485303\ttotal: 27.6s\tremaining: 2m 41s\n",
            "73:\tlearn: 2.0316522\ttotal: 28s\tremaining: 2m 41s\n",
            "74:\tlearn: 2.0211323\ttotal: 28.4s\tremaining: 2m 40s\n",
            "75:\tlearn: 2.0123382\ttotal: 28.7s\tremaining: 2m 39s\n",
            "76:\tlearn: 1.9984037\ttotal: 29s\tremaining: 2m 39s\n",
            "77:\tlearn: 1.9885837\ttotal: 29.4s\tremaining: 2m 38s\n",
            "78:\tlearn: 1.9785156\ttotal: 29.7s\tremaining: 2m 38s\n",
            "79:\tlearn: 1.9633651\ttotal: 30.1s\tremaining: 2m 38s\n",
            "80:\tlearn: 1.9563740\ttotal: 30.4s\tremaining: 2m 37s\n",
            "81:\tlearn: 1.9499627\ttotal: 30.7s\tremaining: 2m 36s\n",
            "82:\tlearn: 1.9358214\ttotal: 31.1s\tremaining: 2m 36s\n",
            "83:\tlearn: 1.9238437\ttotal: 31.4s\tremaining: 2m 35s\n",
            "84:\tlearn: 1.9167411\ttotal: 31.7s\tremaining: 2m 35s\n",
            "85:\tlearn: 1.9062853\ttotal: 32.1s\tremaining: 2m 34s\n",
            "86:\tlearn: 1.8975111\ttotal: 32.4s\tremaining: 2m 33s\n",
            "87:\tlearn: 1.8875927\ttotal: 32.7s\tremaining: 2m 33s\n",
            "88:\tlearn: 1.8797533\ttotal: 33s\tremaining: 2m 32s\n",
            "89:\tlearn: 1.8690926\ttotal: 33.4s\tremaining: 2m 31s\n",
            "90:\tlearn: 1.8551727\ttotal: 33.7s\tremaining: 2m 31s\n",
            "91:\tlearn: 1.8456877\ttotal: 34s\tremaining: 2m 31s\n",
            "92:\tlearn: 1.8347430\ttotal: 34.4s\tremaining: 2m 30s\n",
            "93:\tlearn: 1.8262637\ttotal: 34.7s\tremaining: 2m 30s\n",
            "94:\tlearn: 1.8168267\ttotal: 35.1s\tremaining: 2m 29s\n",
            "95:\tlearn: 1.8049809\ttotal: 35.4s\tremaining: 2m 29s\n",
            "96:\tlearn: 1.7957038\ttotal: 35.8s\tremaining: 2m 28s\n",
            "97:\tlearn: 1.7828837\ttotal: 36.1s\tremaining: 2m 28s\n",
            "98:\tlearn: 1.7691826\ttotal: 36.5s\tremaining: 2m 27s\n",
            "99:\tlearn: 1.7573533\ttotal: 36.9s\tremaining: 2m 27s\n",
            "100:\tlearn: 1.7469719\ttotal: 37.2s\tremaining: 2m 27s\n",
            "101:\tlearn: 1.7401595\ttotal: 37.6s\tremaining: 2m 26s\n",
            "102:\tlearn: 1.7284785\ttotal: 37.9s\tremaining: 2m 26s\n",
            "103:\tlearn: 1.7148571\ttotal: 38.3s\tremaining: 2m 25s\n",
            "104:\tlearn: 1.7030943\ttotal: 38.6s\tremaining: 2m 25s\n",
            "105:\tlearn: 1.6917639\ttotal: 39s\tremaining: 2m 24s\n",
            "106:\tlearn: 1.6837641\ttotal: 39.3s\tremaining: 2m 24s\n",
            "107:\tlearn: 1.6721119\ttotal: 39.7s\tremaining: 2m 23s\n",
            "108:\tlearn: 1.6631562\ttotal: 40s\tremaining: 2m 23s\n",
            "109:\tlearn: 1.6566759\ttotal: 40.3s\tremaining: 2m 22s\n",
            "110:\tlearn: 1.6458652\ttotal: 40.6s\tremaining: 2m 22s\n",
            "111:\tlearn: 1.6377884\ttotal: 41s\tremaining: 2m 21s\n",
            "112:\tlearn: 1.6280608\ttotal: 41.3s\tremaining: 2m 21s\n",
            "113:\tlearn: 1.6188732\ttotal: 41.7s\tremaining: 2m 21s\n",
            "114:\tlearn: 1.6106310\ttotal: 42s\tremaining: 2m 20s\n",
            "115:\tlearn: 1.6026243\ttotal: 42.3s\tremaining: 2m 20s\n",
            "116:\tlearn: 1.5953841\ttotal: 42.6s\tremaining: 2m 19s\n",
            "117:\tlearn: 1.5865197\ttotal: 42.9s\tremaining: 2m 19s\n",
            "118:\tlearn: 1.5733153\ttotal: 43.3s\tremaining: 2m 18s\n",
            "119:\tlearn: 1.5637540\ttotal: 43.7s\tremaining: 2m 18s\n",
            "120:\tlearn: 1.5530814\ttotal: 44s\tremaining: 2m 17s\n",
            "121:\tlearn: 1.5468887\ttotal: 44.4s\tremaining: 2m 17s\n",
            "122:\tlearn: 1.5378867\ttotal: 44.7s\tremaining: 2m 17s\n",
            "123:\tlearn: 1.5300247\ttotal: 45s\tremaining: 2m 16s\n",
            "124:\tlearn: 1.5180388\ttotal: 45.4s\tremaining: 2m 16s\n",
            "125:\tlearn: 1.5090196\ttotal: 45.7s\tremaining: 2m 15s\n",
            "126:\tlearn: 1.5006430\ttotal: 46.1s\tremaining: 2m 15s\n",
            "127:\tlearn: 1.4951163\ttotal: 46.4s\tremaining: 2m 14s\n",
            "128:\tlearn: 1.4884106\ttotal: 46.7s\tremaining: 2m 14s\n",
            "129:\tlearn: 1.4815759\ttotal: 47s\tremaining: 2m 13s\n",
            "130:\tlearn: 1.4750700\ttotal: 47.3s\tremaining: 2m 13s\n",
            "131:\tlearn: 1.4672331\ttotal: 47.7s\tremaining: 2m 12s\n",
            "132:\tlearn: 1.4600623\ttotal: 48s\tremaining: 2m 12s\n",
            "133:\tlearn: 1.4529109\ttotal: 48.3s\tremaining: 2m 12s\n",
            "134:\tlearn: 1.4456810\ttotal: 48.7s\tremaining: 2m 11s\n",
            "135:\tlearn: 1.4409613\ttotal: 49s\tremaining: 2m 11s\n",
            "136:\tlearn: 1.4303364\ttotal: 49.4s\tremaining: 2m 10s\n",
            "137:\tlearn: 1.4216890\ttotal: 49.7s\tremaining: 2m 10s\n",
            "138:\tlearn: 1.4141802\ttotal: 50.1s\tremaining: 2m 10s\n",
            "139:\tlearn: 1.4065143\ttotal: 50.4s\tremaining: 2m 9s\n",
            "140:\tlearn: 1.3995768\ttotal: 50.9s\tremaining: 2m 9s\n",
            "141:\tlearn: 1.3929187\ttotal: 51.2s\tremaining: 2m 9s\n",
            "142:\tlearn: 1.3882591\ttotal: 51.6s\tremaining: 2m 8s\n",
            "143:\tlearn: 1.3811215\ttotal: 52.1s\tremaining: 2m 8s\n",
            "144:\tlearn: 1.3724279\ttotal: 52.4s\tremaining: 2m 8s\n",
            "145:\tlearn: 1.3643399\ttotal: 52.9s\tremaining: 2m 8s\n",
            "146:\tlearn: 1.3560528\ttotal: 53.3s\tremaining: 2m 7s\n",
            "147:\tlearn: 1.3487232\ttotal: 53.6s\tremaining: 2m 7s\n",
            "148:\tlearn: 1.3413123\ttotal: 54s\tremaining: 2m 7s\n",
            "149:\tlearn: 1.3349637\ttotal: 54.3s\tremaining: 2m 6s\n",
            "150:\tlearn: 1.3266417\ttotal: 54.7s\tremaining: 2m 6s\n",
            "151:\tlearn: 1.3185522\ttotal: 55s\tremaining: 2m 5s\n",
            "152:\tlearn: 1.3120249\ttotal: 55.3s\tremaining: 2m 5s\n",
            "153:\tlearn: 1.3047823\ttotal: 55.7s\tremaining: 2m 5s\n",
            "154:\tlearn: 1.2986643\ttotal: 56s\tremaining: 2m 4s\n",
            "155:\tlearn: 1.2909664\ttotal: 56.4s\tremaining: 2m 4s\n",
            "156:\tlearn: 1.2832538\ttotal: 56.8s\tremaining: 2m 3s\n",
            "157:\tlearn: 1.2759488\ttotal: 57.1s\tremaining: 2m 3s\n",
            "158:\tlearn: 1.2683139\ttotal: 57.5s\tremaining: 2m 3s\n",
            "159:\tlearn: 1.2627788\ttotal: 57.8s\tremaining: 2m 2s\n",
            "160:\tlearn: 1.2574934\ttotal: 58.1s\tremaining: 2m 2s\n",
            "161:\tlearn: 1.2525426\ttotal: 58.4s\tremaining: 2m 1s\n",
            "162:\tlearn: 1.2468347\ttotal: 58.8s\tremaining: 2m 1s\n",
            "163:\tlearn: 1.2422798\ttotal: 59.1s\tremaining: 2m\n",
            "164:\tlearn: 1.2340840\ttotal: 59.4s\tremaining: 2m\n",
            "165:\tlearn: 1.2271204\ttotal: 59.8s\tremaining: 2m\n",
            "166:\tlearn: 1.2205043\ttotal: 1m\tremaining: 1m 59s\n",
            "167:\tlearn: 1.2148145\ttotal: 1m\tremaining: 1m 59s\n",
            "168:\tlearn: 1.2096612\ttotal: 1m\tremaining: 1m 59s\n",
            "169:\tlearn: 1.2033812\ttotal: 1m 1s\tremaining: 1m 58s\n",
            "170:\tlearn: 1.1973846\ttotal: 1m 1s\tremaining: 1m 58s\n",
            "171:\tlearn: 1.1901986\ttotal: 1m 1s\tremaining: 1m 57s\n",
            "172:\tlearn: 1.1846117\ttotal: 1m 2s\tremaining: 1m 57s\n",
            "173:\tlearn: 1.1794146\ttotal: 1m 2s\tremaining: 1m 57s\n",
            "174:\tlearn: 1.1730534\ttotal: 1m 2s\tremaining: 1m 56s\n",
            "175:\tlearn: 1.1670655\ttotal: 1m 3s\tremaining: 1m 56s\n",
            "176:\tlearn: 1.1623013\ttotal: 1m 3s\tremaining: 1m 55s\n",
            "177:\tlearn: 1.1567529\ttotal: 1m 3s\tremaining: 1m 55s\n",
            "178:\tlearn: 1.1518229\ttotal: 1m 4s\tremaining: 1m 55s\n",
            "179:\tlearn: 1.1455115\ttotal: 1m 4s\tremaining: 1m 54s\n",
            "180:\tlearn: 1.1403308\ttotal: 1m 4s\tremaining: 1m 54s\n",
            "181:\tlearn: 1.1323039\ttotal: 1m 5s\tremaining: 1m 54s\n",
            "182:\tlearn: 1.1238767\ttotal: 1m 5s\tremaining: 1m 53s\n",
            "183:\tlearn: 1.1194385\ttotal: 1m 5s\tremaining: 1m 53s\n",
            "184:\tlearn: 1.1140414\ttotal: 1m 6s\tremaining: 1m 52s\n",
            "185:\tlearn: 1.1095229\ttotal: 1m 6s\tremaining: 1m 52s\n",
            "186:\tlearn: 1.1041536\ttotal: 1m 7s\tremaining: 1m 52s\n",
            "187:\tlearn: 1.0984463\ttotal: 1m 7s\tremaining: 1m 52s\n",
            "188:\tlearn: 1.0920467\ttotal: 1m 8s\tremaining: 1m 52s\n",
            "189:\tlearn: 1.0856353\ttotal: 1m 8s\tremaining: 1m 51s\n",
            "190:\tlearn: 1.0792334\ttotal: 1m 9s\tremaining: 1m 51s\n",
            "191:\tlearn: 1.0721268\ttotal: 1m 9s\tremaining: 1m 51s\n",
            "192:\tlearn: 1.0671933\ttotal: 1m 10s\tremaining: 1m 51s\n",
            "193:\tlearn: 1.0621073\ttotal: 1m 10s\tremaining: 1m 51s\n",
            "194:\tlearn: 1.0584064\ttotal: 1m 11s\tremaining: 1m 51s\n",
            "195:\tlearn: 1.0534598\ttotal: 1m 11s\tremaining: 1m 51s\n",
            "196:\tlearn: 1.0476814\ttotal: 1m 12s\tremaining: 1m 51s\n",
            "197:\tlearn: 1.0410172\ttotal: 1m 13s\tremaining: 1m 51s\n",
            "198:\tlearn: 1.0357676\ttotal: 1m 13s\tremaining: 1m 51s\n",
            "199:\tlearn: 1.0297829\ttotal: 1m 14s\tremaining: 1m 51s\n",
            "200:\tlearn: 1.0259351\ttotal: 1m 14s\tremaining: 1m 51s\n",
            "201:\tlearn: 1.0217612\ttotal: 1m 15s\tremaining: 1m 50s\n",
            "202:\tlearn: 1.0167731\ttotal: 1m 15s\tremaining: 1m 50s\n",
            "203:\tlearn: 1.0116388\ttotal: 1m 15s\tremaining: 1m 50s\n",
            "204:\tlearn: 1.0073193\ttotal: 1m 16s\tremaining: 1m 49s\n",
            "205:\tlearn: 1.0015925\ttotal: 1m 16s\tremaining: 1m 49s\n",
            "206:\tlearn: 0.9963225\ttotal: 1m 17s\tremaining: 1m 49s\n",
            "207:\tlearn: 0.9920160\ttotal: 1m 17s\tremaining: 1m 48s\n",
            "208:\tlearn: 0.9868210\ttotal: 1m 18s\tremaining: 1m 48s\n",
            "209:\tlearn: 0.9828645\ttotal: 1m 18s\tremaining: 1m 48s\n",
            "210:\tlearn: 0.9786513\ttotal: 1m 18s\tremaining: 1m 48s\n",
            "211:\tlearn: 0.9739464\ttotal: 1m 19s\tremaining: 1m 47s\n",
            "212:\tlearn: 0.9685410\ttotal: 1m 19s\tremaining: 1m 47s\n",
            "213:\tlearn: 0.9646294\ttotal: 1m 20s\tremaining: 1m 47s\n",
            "214:\tlearn: 0.9599514\ttotal: 1m 20s\tremaining: 1m 46s\n",
            "215:\tlearn: 0.9544779\ttotal: 1m 20s\tremaining: 1m 46s\n",
            "216:\tlearn: 0.9511973\ttotal: 1m 21s\tremaining: 1m 45s\n",
            "217:\tlearn: 0.9449360\ttotal: 1m 21s\tremaining: 1m 45s\n",
            "218:\tlearn: 0.9405668\ttotal: 1m 22s\tremaining: 1m 45s\n",
            "219:\tlearn: 0.9362156\ttotal: 1m 22s\tremaining: 1m 45s\n",
            "220:\tlearn: 0.9332085\ttotal: 1m 22s\tremaining: 1m 44s\n",
            "221:\tlearn: 0.9292010\ttotal: 1m 23s\tremaining: 1m 44s\n",
            "222:\tlearn: 0.9254593\ttotal: 1m 23s\tremaining: 1m 43s\n",
            "223:\tlearn: 0.9209906\ttotal: 1m 23s\tremaining: 1m 43s\n",
            "224:\tlearn: 0.9191496\ttotal: 1m 24s\tremaining: 1m 42s\n",
            "225:\tlearn: 0.9146681\ttotal: 1m 24s\tremaining: 1m 42s\n",
            "226:\tlearn: 0.9102503\ttotal: 1m 24s\tremaining: 1m 42s\n",
            "227:\tlearn: 0.9072473\ttotal: 1m 25s\tremaining: 1m 41s\n",
            "228:\tlearn: 0.9041146\ttotal: 1m 25s\tremaining: 1m 41s\n",
            "229:\tlearn: 0.9004114\ttotal: 1m 25s\tremaining: 1m 40s\n",
            "230:\tlearn: 0.8974297\ttotal: 1m 26s\tremaining: 1m 40s\n",
            "231:\tlearn: 0.8940897\ttotal: 1m 26s\tremaining: 1m 39s\n",
            "232:\tlearn: 0.8890939\ttotal: 1m 26s\tremaining: 1m 39s\n",
            "233:\tlearn: 0.8844576\ttotal: 1m 27s\tremaining: 1m 39s\n",
            "234:\tlearn: 0.8806818\ttotal: 1m 27s\tremaining: 1m 38s\n",
            "235:\tlearn: 0.8762980\ttotal: 1m 27s\tremaining: 1m 38s\n",
            "236:\tlearn: 0.8736468\ttotal: 1m 28s\tremaining: 1m 38s\n",
            "237:\tlearn: 0.8703873\ttotal: 1m 28s\tremaining: 1m 37s\n",
            "238:\tlearn: 0.8670939\ttotal: 1m 29s\tremaining: 1m 37s\n",
            "239:\tlearn: 0.8637300\ttotal: 1m 29s\tremaining: 1m 36s\n",
            "240:\tlearn: 0.8581133\ttotal: 1m 29s\tremaining: 1m 36s\n",
            "241:\tlearn: 0.8555148\ttotal: 1m 30s\tremaining: 1m 35s\n",
            "242:\tlearn: 0.8513997\ttotal: 1m 30s\tremaining: 1m 35s\n",
            "243:\tlearn: 0.8485117\ttotal: 1m 30s\tremaining: 1m 35s\n",
            "244:\tlearn: 0.8441122\ttotal: 1m 31s\tremaining: 1m 34s\n",
            "245:\tlearn: 0.8393996\ttotal: 1m 31s\tremaining: 1m 34s\n",
            "246:\tlearn: 0.8368921\ttotal: 1m 31s\tremaining: 1m 33s\n",
            "247:\tlearn: 0.8334833\ttotal: 1m 32s\tremaining: 1m 33s\n",
            "248:\tlearn: 0.8296243\ttotal: 1m 32s\tremaining: 1m 33s\n",
            "249:\tlearn: 0.8270408\ttotal: 1m 32s\tremaining: 1m 32s\n",
            "250:\tlearn: 0.8231688\ttotal: 1m 33s\tremaining: 1m 32s\n",
            "251:\tlearn: 0.8202439\ttotal: 1m 33s\tremaining: 1m 31s\n",
            "252:\tlearn: 0.8174822\ttotal: 1m 33s\tremaining: 1m 31s\n",
            "253:\tlearn: 0.8143508\ttotal: 1m 34s\tremaining: 1m 31s\n",
            "254:\tlearn: 0.8111626\ttotal: 1m 34s\tremaining: 1m 30s\n",
            "255:\tlearn: 0.8088019\ttotal: 1m 34s\tremaining: 1m 30s\n",
            "256:\tlearn: 0.8053244\ttotal: 1m 35s\tremaining: 1m 29s\n",
            "257:\tlearn: 0.8032233\ttotal: 1m 35s\tremaining: 1m 29s\n",
            "258:\tlearn: 0.7986924\ttotal: 1m 35s\tremaining: 1m 29s\n",
            "259:\tlearn: 0.7942099\ttotal: 1m 36s\tremaining: 1m 28s\n",
            "260:\tlearn: 0.7917490\ttotal: 1m 36s\tremaining: 1m 28s\n",
            "261:\tlearn: 0.7892267\ttotal: 1m 36s\tremaining: 1m 27s\n",
            "262:\tlearn: 0.7873058\ttotal: 1m 37s\tremaining: 1m 27s\n",
            "263:\tlearn: 0.7838469\ttotal: 1m 37s\tremaining: 1m 27s\n",
            "264:\tlearn: 0.7807925\ttotal: 1m 37s\tremaining: 1m 26s\n",
            "265:\tlearn: 0.7777019\ttotal: 1m 38s\tremaining: 1m 26s\n",
            "266:\tlearn: 0.7752229\ttotal: 1m 38s\tremaining: 1m 26s\n",
            "267:\tlearn: 0.7728965\ttotal: 1m 38s\tremaining: 1m 25s\n",
            "268:\tlearn: 0.7691394\ttotal: 1m 39s\tremaining: 1m 25s\n",
            "269:\tlearn: 0.7652527\ttotal: 1m 39s\tremaining: 1m 24s\n",
            "270:\tlearn: 0.7619994\ttotal: 1m 40s\tremaining: 1m 24s\n",
            "271:\tlearn: 0.7595956\ttotal: 1m 40s\tremaining: 1m 24s\n",
            "272:\tlearn: 0.7567288\ttotal: 1m 40s\tremaining: 1m 23s\n",
            "273:\tlearn: 0.7549813\ttotal: 1m 41s\tremaining: 1m 23s\n",
            "274:\tlearn: 0.7514652\ttotal: 1m 41s\tremaining: 1m 23s\n",
            "275:\tlearn: 0.7496585\ttotal: 1m 42s\tremaining: 1m 22s\n",
            "276:\tlearn: 0.7469578\ttotal: 1m 42s\tremaining: 1m 22s\n",
            "277:\tlearn: 0.7457509\ttotal: 1m 42s\tremaining: 1m 22s\n",
            "278:\tlearn: 0.7438292\ttotal: 1m 43s\tremaining: 1m 21s\n",
            "279:\tlearn: 0.7417088\ttotal: 1m 43s\tremaining: 1m 21s\n",
            "280:\tlearn: 0.7379345\ttotal: 1m 43s\tremaining: 1m 20s\n",
            "281:\tlearn: 0.7359674\ttotal: 1m 44s\tremaining: 1m 20s\n",
            "282:\tlearn: 0.7334792\ttotal: 1m 44s\tremaining: 1m 20s\n",
            "283:\tlearn: 0.7290458\ttotal: 1m 44s\tremaining: 1m 19s\n",
            "284:\tlearn: 0.7259355\ttotal: 1m 45s\tremaining: 1m 19s\n",
            "285:\tlearn: 0.7237637\ttotal: 1m 45s\tremaining: 1m 18s\n",
            "286:\tlearn: 0.7220003\ttotal: 1m 45s\tremaining: 1m 18s\n",
            "287:\tlearn: 0.7200888\ttotal: 1m 46s\tremaining: 1m 18s\n",
            "288:\tlearn: 0.7182583\ttotal: 1m 46s\tremaining: 1m 17s\n",
            "289:\tlearn: 0.7158661\ttotal: 1m 46s\tremaining: 1m 17s\n",
            "290:\tlearn: 0.7127965\ttotal: 1m 47s\tremaining: 1m 16s\n",
            "291:\tlearn: 0.7100241\ttotal: 1m 47s\tremaining: 1m 16s\n",
            "292:\tlearn: 0.7077367\ttotal: 1m 47s\tremaining: 1m 16s\n",
            "293:\tlearn: 0.7045604\ttotal: 1m 48s\tremaining: 1m 15s\n",
            "294:\tlearn: 0.7019440\ttotal: 1m 48s\tremaining: 1m 15s\n",
            "295:\tlearn: 0.6991244\ttotal: 1m 48s\tremaining: 1m 14s\n",
            "296:\tlearn: 0.6975935\ttotal: 1m 49s\tremaining: 1m 14s\n",
            "297:\tlearn: 0.6954822\ttotal: 1m 49s\tremaining: 1m 14s\n",
            "298:\tlearn: 0.6941278\ttotal: 1m 49s\tremaining: 1m 13s\n",
            "299:\tlearn: 0.6922748\ttotal: 1m 50s\tremaining: 1m 13s\n",
            "300:\tlearn: 0.6897082\ttotal: 1m 50s\tremaining: 1m 12s\n",
            "301:\tlearn: 0.6869826\ttotal: 1m 50s\tremaining: 1m 12s\n",
            "302:\tlearn: 0.6835797\ttotal: 1m 51s\tremaining: 1m 12s\n",
            "303:\tlearn: 0.6802867\ttotal: 1m 51s\tremaining: 1m 11s\n",
            "304:\tlearn: 0.6781075\ttotal: 1m 51s\tremaining: 1m 11s\n",
            "305:\tlearn: 0.6759250\ttotal: 1m 52s\tremaining: 1m 11s\n",
            "306:\tlearn: 0.6742080\ttotal: 1m 52s\tremaining: 1m 10s\n",
            "307:\tlearn: 0.6724870\ttotal: 1m 52s\tremaining: 1m 10s\n",
            "308:\tlearn: 0.6702801\ttotal: 1m 53s\tremaining: 1m 9s\n",
            "309:\tlearn: 0.6680631\ttotal: 1m 53s\tremaining: 1m 9s\n",
            "310:\tlearn: 0.6657084\ttotal: 1m 53s\tremaining: 1m 9s\n",
            "311:\tlearn: 0.6643338\ttotal: 1m 54s\tremaining: 1m 8s\n",
            "312:\tlearn: 0.6627195\ttotal: 1m 54s\tremaining: 1m 8s\n",
            "313:\tlearn: 0.6608092\ttotal: 1m 54s\tremaining: 1m 7s\n",
            "314:\tlearn: 0.6581196\ttotal: 1m 55s\tremaining: 1m 7s\n",
            "315:\tlearn: 0.6559180\ttotal: 1m 55s\tremaining: 1m 7s\n",
            "316:\tlearn: 0.6535938\ttotal: 1m 55s\tremaining: 1m 6s\n",
            "317:\tlearn: 0.6522032\ttotal: 1m 55s\tremaining: 1m 6s\n",
            "318:\tlearn: 0.6502045\ttotal: 1m 56s\tremaining: 1m 6s\n",
            "319:\tlearn: 0.6478392\ttotal: 1m 56s\tremaining: 1m 5s\n",
            "320:\tlearn: 0.6459531\ttotal: 1m 56s\tremaining: 1m 5s\n",
            "321:\tlearn: 0.6447537\ttotal: 1m 57s\tremaining: 1m 4s\n",
            "322:\tlearn: 0.6425945\ttotal: 1m 57s\tremaining: 1m 4s\n",
            "323:\tlearn: 0.6404527\ttotal: 1m 57s\tremaining: 1m 4s\n",
            "324:\tlearn: 0.6378876\ttotal: 1m 58s\tremaining: 1m 3s\n",
            "325:\tlearn: 0.6357819\ttotal: 1m 58s\tremaining: 1m 3s\n",
            "326:\tlearn: 0.6337481\ttotal: 1m 58s\tremaining: 1m 2s\n",
            "327:\tlearn: 0.6322817\ttotal: 1m 59s\tremaining: 1m 2s\n",
            "328:\tlearn: 0.6299295\ttotal: 1m 59s\tremaining: 1m 2s\n",
            "329:\tlearn: 0.6274292\ttotal: 1m 59s\tremaining: 1m 1s\n",
            "330:\tlearn: 0.6255498\ttotal: 2m\tremaining: 1m 1s\n",
            "331:\tlearn: 0.6244007\ttotal: 2m\tremaining: 1m 1s\n",
            "332:\tlearn: 0.6221692\ttotal: 2m\tremaining: 1m\n",
            "333:\tlearn: 0.6201426\ttotal: 2m 1s\tremaining: 1m\n",
            "334:\tlearn: 0.6183212\ttotal: 2m 1s\tremaining: 59.9s\n",
            "335:\tlearn: 0.6162030\ttotal: 2m 1s\tremaining: 59.5s\n",
            "336:\tlearn: 0.6147703\ttotal: 2m 2s\tremaining: 59.1s\n",
            "337:\tlearn: 0.6132544\ttotal: 2m 2s\tremaining: 58.7s\n",
            "338:\tlearn: 0.6106594\ttotal: 2m 2s\tremaining: 58.3s\n",
            "339:\tlearn: 0.6081248\ttotal: 2m 3s\tremaining: 58s\n",
            "340:\tlearn: 0.6063113\ttotal: 2m 3s\tremaining: 57.6s\n",
            "341:\tlearn: 0.6048998\ttotal: 2m 3s\tremaining: 57.2s\n",
            "342:\tlearn: 0.6035191\ttotal: 2m 4s\tremaining: 56.8s\n",
            "343:\tlearn: 0.6017048\ttotal: 2m 4s\tremaining: 56.4s\n",
            "344:\tlearn: 0.5998420\ttotal: 2m 4s\tremaining: 56.1s\n",
            "345:\tlearn: 0.5983753\ttotal: 2m 5s\tremaining: 55.7s\n",
            "346:\tlearn: 0.5959958\ttotal: 2m 5s\tremaining: 55.3s\n",
            "347:\tlearn: 0.5943727\ttotal: 2m 5s\tremaining: 54.9s\n",
            "348:\tlearn: 0.5923335\ttotal: 2m 6s\tremaining: 54.6s\n",
            "349:\tlearn: 0.5888839\ttotal: 2m 6s\tremaining: 54.2s\n",
            "350:\tlearn: 0.5874789\ttotal: 2m 6s\tremaining: 53.8s\n",
            "351:\tlearn: 0.5856303\ttotal: 2m 7s\tremaining: 53.4s\n",
            "352:\tlearn: 0.5841450\ttotal: 2m 7s\tremaining: 53.1s\n",
            "353:\tlearn: 0.5829021\ttotal: 2m 7s\tremaining: 52.7s\n",
            "354:\tlearn: 0.5808531\ttotal: 2m 8s\tremaining: 52.3s\n",
            "355:\tlearn: 0.5797325\ttotal: 2m 8s\tremaining: 51.9s\n",
            "356:\tlearn: 0.5779048\ttotal: 2m 8s\tremaining: 51.6s\n",
            "357:\tlearn: 0.5766262\ttotal: 2m 9s\tremaining: 51.2s\n",
            "358:\tlearn: 0.5751879\ttotal: 2m 9s\tremaining: 50.8s\n",
            "359:\tlearn: 0.5741838\ttotal: 2m 9s\tremaining: 50.4s\n",
            "360:\tlearn: 0.5728961\ttotal: 2m 10s\tremaining: 50.1s\n",
            "361:\tlearn: 0.5717220\ttotal: 2m 10s\tremaining: 49.7s\n",
            "362:\tlearn: 0.5699737\ttotal: 2m 10s\tremaining: 49.3s\n",
            "363:\tlearn: 0.5685486\ttotal: 2m 10s\tremaining: 48.9s\n",
            "364:\tlearn: 0.5673156\ttotal: 2m 11s\tremaining: 48.6s\n",
            "365:\tlearn: 0.5657974\ttotal: 2m 11s\tremaining: 48.2s\n",
            "366:\tlearn: 0.5637857\ttotal: 2m 11s\tremaining: 47.8s\n",
            "367:\tlearn: 0.5623477\ttotal: 2m 12s\tremaining: 47.5s\n",
            "368:\tlearn: 0.5606110\ttotal: 2m 12s\tremaining: 47.1s\n",
            "369:\tlearn: 0.5590999\ttotal: 2m 12s\tremaining: 46.7s\n",
            "370:\tlearn: 0.5579259\ttotal: 2m 13s\tremaining: 46.3s\n",
            "371:\tlearn: 0.5563717\ttotal: 2m 13s\tremaining: 46s\n",
            "372:\tlearn: 0.5556674\ttotal: 2m 13s\tremaining: 45.6s\n",
            "373:\tlearn: 0.5544082\ttotal: 2m 14s\tremaining: 45.2s\n",
            "374:\tlearn: 0.5531169\ttotal: 2m 14s\tremaining: 44.8s\n",
            "375:\tlearn: 0.5517839\ttotal: 2m 14s\tremaining: 44.5s\n",
            "376:\tlearn: 0.5502496\ttotal: 2m 15s\tremaining: 44.1s\n",
            "377:\tlearn: 0.5482503\ttotal: 2m 15s\tremaining: 43.8s\n",
            "378:\tlearn: 0.5466352\ttotal: 2m 15s\tremaining: 43.4s\n",
            "379:\tlearn: 0.5462101\ttotal: 2m 16s\tremaining: 43s\n",
            "380:\tlearn: 0.5449862\ttotal: 2m 16s\tremaining: 42.6s\n",
            "381:\tlearn: 0.5436259\ttotal: 2m 16s\tremaining: 42.3s\n",
            "382:\tlearn: 0.5427427\ttotal: 2m 17s\tremaining: 41.9s\n",
            "383:\tlearn: 0.5416405\ttotal: 2m 17s\tremaining: 41.5s\n",
            "384:\tlearn: 0.5403381\ttotal: 2m 17s\tremaining: 41.2s\n",
            "385:\tlearn: 0.5393261\ttotal: 2m 18s\tremaining: 40.8s\n",
            "386:\tlearn: 0.5379980\ttotal: 2m 18s\tremaining: 40.4s\n",
            "387:\tlearn: 0.5371707\ttotal: 2m 18s\tremaining: 40s\n",
            "388:\tlearn: 0.5356044\ttotal: 2m 19s\tremaining: 39.7s\n",
            "389:\tlearn: 0.5343457\ttotal: 2m 19s\tremaining: 39.3s\n",
            "390:\tlearn: 0.5328584\ttotal: 2m 19s\tremaining: 39s\n",
            "391:\tlearn: 0.5306007\ttotal: 2m 20s\tremaining: 38.6s\n",
            "392:\tlearn: 0.5296414\ttotal: 2m 20s\tremaining: 38.2s\n",
            "393:\tlearn: 0.5288519\ttotal: 2m 20s\tremaining: 37.9s\n",
            "394:\tlearn: 0.5276338\ttotal: 2m 21s\tremaining: 37.5s\n",
            "395:\tlearn: 0.5265292\ttotal: 2m 21s\tremaining: 37.1s\n",
            "396:\tlearn: 0.5258747\ttotal: 2m 21s\tremaining: 36.8s\n",
            "397:\tlearn: 0.5244717\ttotal: 2m 21s\tremaining: 36.4s\n",
            "398:\tlearn: 0.5233308\ttotal: 2m 22s\tremaining: 36s\n",
            "399:\tlearn: 0.5221852\ttotal: 2m 22s\tremaining: 35.6s\n",
            "400:\tlearn: 0.5206515\ttotal: 2m 22s\tremaining: 35.3s\n",
            "401:\tlearn: 0.5194142\ttotal: 2m 23s\tremaining: 34.9s\n",
            "402:\tlearn: 0.5182867\ttotal: 2m 23s\tremaining: 34.6s\n",
            "403:\tlearn: 0.5175227\ttotal: 2m 23s\tremaining: 34.2s\n",
            "404:\tlearn: 0.5169302\ttotal: 2m 24s\tremaining: 33.8s\n",
            "405:\tlearn: 0.5158925\ttotal: 2m 24s\tremaining: 33.4s\n",
            "406:\tlearn: 0.5146234\ttotal: 2m 24s\tremaining: 33.1s\n",
            "407:\tlearn: 0.5136053\ttotal: 2m 25s\tremaining: 32.7s\n",
            "408:\tlearn: 0.5125750\ttotal: 2m 25s\tremaining: 32.3s\n",
            "409:\tlearn: 0.5114163\ttotal: 2m 25s\tremaining: 32s\n",
            "410:\tlearn: 0.5107691\ttotal: 2m 25s\tremaining: 31.6s\n",
            "411:\tlearn: 0.5092688\ttotal: 2m 26s\tremaining: 31.2s\n",
            "412:\tlearn: 0.5080471\ttotal: 2m 26s\tremaining: 30.9s\n",
            "413:\tlearn: 0.5066919\ttotal: 2m 26s\tremaining: 30.5s\n",
            "414:\tlearn: 0.5056373\ttotal: 2m 27s\tremaining: 30.2s\n",
            "415:\tlearn: 0.5045606\ttotal: 2m 27s\tremaining: 29.8s\n",
            "416:\tlearn: 0.5036457\ttotal: 2m 27s\tremaining: 29.4s\n",
            "417:\tlearn: 0.5023116\ttotal: 2m 28s\tremaining: 29.1s\n",
            "418:\tlearn: 0.5011432\ttotal: 2m 28s\tremaining: 28.7s\n",
            "419:\tlearn: 0.5001656\ttotal: 2m 28s\tremaining: 28.4s\n",
            "420:\tlearn: 0.4988257\ttotal: 2m 29s\tremaining: 28s\n",
            "421:\tlearn: 0.4976293\ttotal: 2m 29s\tremaining: 27.7s\n",
            "422:\tlearn: 0.4967904\ttotal: 2m 30s\tremaining: 27.3s\n",
            "423:\tlearn: 0.4957400\ttotal: 2m 30s\tremaining: 27s\n",
            "424:\tlearn: 0.4947272\ttotal: 2m 30s\tremaining: 26.6s\n",
            "425:\tlearn: 0.4937337\ttotal: 2m 31s\tremaining: 26.3s\n",
            "426:\tlearn: 0.4926458\ttotal: 2m 31s\tremaining: 25.9s\n",
            "427:\tlearn: 0.4916635\ttotal: 2m 31s\tremaining: 25.6s\n",
            "428:\tlearn: 0.4904535\ttotal: 2m 32s\tremaining: 25.2s\n",
            "429:\tlearn: 0.4892609\ttotal: 2m 32s\tremaining: 24.9s\n",
            "430:\tlearn: 0.4882308\ttotal: 2m 33s\tremaining: 24.5s\n",
            "431:\tlearn: 0.4871647\ttotal: 2m 33s\tremaining: 24.1s\n",
            "432:\tlearn: 0.4862640\ttotal: 2m 33s\tremaining: 23.8s\n",
            "433:\tlearn: 0.4849698\ttotal: 2m 33s\tremaining: 23.4s\n",
            "434:\tlearn: 0.4841735\ttotal: 2m 34s\tremaining: 23.1s\n",
            "435:\tlearn: 0.4832464\ttotal: 2m 34s\tremaining: 22.7s\n",
            "436:\tlearn: 0.4825963\ttotal: 2m 34s\tremaining: 22.3s\n",
            "437:\tlearn: 0.4817278\ttotal: 2m 35s\tremaining: 22s\n",
            "438:\tlearn: 0.4807809\ttotal: 2m 35s\tremaining: 21.6s\n",
            "439:\tlearn: 0.4794873\ttotal: 2m 35s\tremaining: 21.3s\n",
            "440:\tlearn: 0.4786331\ttotal: 2m 36s\tremaining: 20.9s\n",
            "441:\tlearn: 0.4772639\ttotal: 2m 36s\tremaining: 20.5s\n",
            "442:\tlearn: 0.4762232\ttotal: 2m 36s\tremaining: 20.2s\n",
            "443:\tlearn: 0.4754101\ttotal: 2m 37s\tremaining: 19.8s\n",
            "444:\tlearn: 0.4740674\ttotal: 2m 37s\tremaining: 19.5s\n",
            "445:\tlearn: 0.4731479\ttotal: 2m 37s\tremaining: 19.1s\n",
            "446:\tlearn: 0.4716851\ttotal: 2m 38s\tremaining: 18.7s\n",
            "447:\tlearn: 0.4703174\ttotal: 2m 38s\tremaining: 18.4s\n",
            "448:\tlearn: 0.4697703\ttotal: 2m 38s\tremaining: 18s\n",
            "449:\tlearn: 0.4686301\ttotal: 2m 39s\tremaining: 17.7s\n",
            "450:\tlearn: 0.4675216\ttotal: 2m 39s\tremaining: 17.3s\n",
            "451:\tlearn: 0.4662072\ttotal: 2m 39s\tremaining: 17s\n",
            "452:\tlearn: 0.4652685\ttotal: 2m 40s\tremaining: 16.6s\n",
            "453:\tlearn: 0.4638994\ttotal: 2m 40s\tremaining: 16.3s\n",
            "454:\tlearn: 0.4632023\ttotal: 2m 40s\tremaining: 15.9s\n",
            "455:\tlearn: 0.4624906\ttotal: 2m 40s\tremaining: 15.5s\n",
            "456:\tlearn: 0.4619220\ttotal: 2m 41s\tremaining: 15.2s\n",
            "457:\tlearn: 0.4609062\ttotal: 2m 41s\tremaining: 14.8s\n",
            "458:\tlearn: 0.4602099\ttotal: 2m 41s\tremaining: 14.5s\n",
            "459:\tlearn: 0.4594050\ttotal: 2m 42s\tremaining: 14.1s\n",
            "460:\tlearn: 0.4588644\ttotal: 2m 42s\tremaining: 13.8s\n",
            "461:\tlearn: 0.4580123\ttotal: 2m 42s\tremaining: 13.4s\n",
            "462:\tlearn: 0.4567093\ttotal: 2m 43s\tremaining: 13s\n",
            "463:\tlearn: 0.4558960\ttotal: 2m 43s\tremaining: 12.7s\n",
            "464:\tlearn: 0.4550705\ttotal: 2m 43s\tremaining: 12.3s\n",
            "465:\tlearn: 0.4536093\ttotal: 2m 44s\tremaining: 12s\n",
            "466:\tlearn: 0.4526204\ttotal: 2m 44s\tremaining: 11.6s\n",
            "467:\tlearn: 0.4516062\ttotal: 2m 44s\tremaining: 11.3s\n",
            "468:\tlearn: 0.4503321\ttotal: 2m 45s\tremaining: 10.9s\n",
            "469:\tlearn: 0.4495372\ttotal: 2m 45s\tremaining: 10.6s\n",
            "470:\tlearn: 0.4488676\ttotal: 2m 45s\tremaining: 10.2s\n",
            "471:\tlearn: 0.4479638\ttotal: 2m 46s\tremaining: 9.85s\n",
            "472:\tlearn: 0.4472632\ttotal: 2m 46s\tremaining: 9.5s\n",
            "473:\tlearn: 0.4463350\ttotal: 2m 46s\tremaining: 9.14s\n",
            "474:\tlearn: 0.4455444\ttotal: 2m 47s\tremaining: 8.79s\n",
            "475:\tlearn: 0.4449183\ttotal: 2m 47s\tremaining: 8.44s\n",
            "476:\tlearn: 0.4439378\ttotal: 2m 47s\tremaining: 8.09s\n",
            "477:\tlearn: 0.4429128\ttotal: 2m 48s\tremaining: 7.74s\n",
            "478:\tlearn: 0.4415688\ttotal: 2m 48s\tremaining: 7.38s\n",
            "479:\tlearn: 0.4409047\ttotal: 2m 48s\tremaining: 7.03s\n",
            "480:\tlearn: 0.4403098\ttotal: 2m 49s\tremaining: 6.68s\n",
            "481:\tlearn: 0.4397086\ttotal: 2m 49s\tremaining: 6.32s\n",
            "482:\tlearn: 0.4390934\ttotal: 2m 49s\tremaining: 5.97s\n",
            "483:\tlearn: 0.4383889\ttotal: 2m 49s\tremaining: 5.62s\n",
            "484:\tlearn: 0.4372720\ttotal: 2m 50s\tremaining: 5.27s\n",
            "485:\tlearn: 0.4364407\ttotal: 2m 50s\tremaining: 4.91s\n",
            "486:\tlearn: 0.4357534\ttotal: 2m 50s\tremaining: 4.56s\n",
            "487:\tlearn: 0.4347028\ttotal: 2m 51s\tremaining: 4.21s\n",
            "488:\tlearn: 0.4342252\ttotal: 2m 51s\tremaining: 3.86s\n",
            "489:\tlearn: 0.4338235\ttotal: 2m 51s\tremaining: 3.51s\n",
            "490:\tlearn: 0.4325095\ttotal: 2m 52s\tremaining: 3.16s\n",
            "491:\tlearn: 0.4321290\ttotal: 2m 52s\tremaining: 2.8s\n",
            "492:\tlearn: 0.4311463\ttotal: 2m 52s\tremaining: 2.45s\n",
            "493:\tlearn: 0.4307048\ttotal: 2m 53s\tremaining: 2.1s\n",
            "494:\tlearn: 0.4304568\ttotal: 2m 53s\tremaining: 1.75s\n",
            "495:\tlearn: 0.4297027\ttotal: 2m 53s\tremaining: 1.4s\n",
            "496:\tlearn: 0.4289490\ttotal: 2m 54s\tremaining: 1.05s\n",
            "497:\tlearn: 0.4283929\ttotal: 2m 54s\tremaining: 700ms\n",
            "498:\tlearn: 0.4276797\ttotal: 2m 54s\tremaining: 350ms\n",
            "499:\tlearn: 0.4271015\ttotal: 2m 54s\tremaining: 0us\n"
          ]
        },
        {
          "output_type": "execute_result",
          "data": {
            "text/plain": [
              "<catboost.core.CatBoostClassifier at 0x7f79ceb61af0>"
            ]
          },
          "metadata": {},
          "execution_count": 12
        }
      ],
      "source": [
        "from catboost import CatBoostClassifier\n",
        "#import xgboost as xgb\n",
        "#classifier = xgb.XGBClassifier(n_jobs=8, n_estimators=100, verbosity=3)\n",
        "classifier = CatBoostClassifier(task_type='GPU', iterations=500)\n",
        "classifier.fit(x_train, y_train)"
      ]
    },
    {
      "cell_type": "code",
      "source": [
        "y_test.value_counts()"
      ],
      "metadata": {
        "id": "aN-gRSsob0yQ",
        "outputId": "8116d8de-0fcc-499a-d696-a98a19fe6fce",
        "colab": {
          "base_uri": "https://localhost:8080/",
          "height": 164
        }
      },
      "id": "aN-gRSsob0yQ",
      "execution_count": 15,
      "outputs": [
        {
          "output_type": "error",
          "ename": "AttributeError",
          "evalue": "ignored",
          "traceback": [
            "\u001b[0;31m---------------------------------------------------------------------------\u001b[0m",
            "\u001b[0;31mAttributeError\u001b[0m                            Traceback (most recent call last)",
            "\u001b[0;32m<ipython-input-15-2820df361543>\u001b[0m in \u001b[0;36m<module>\u001b[0;34m\u001b[0m\n\u001b[0;32m----> 1\u001b[0;31m \u001b[0my_test\u001b[0m\u001b[0;34m.\u001b[0m\u001b[0mvalue_counts\u001b[0m\u001b[0;34m(\u001b[0m\u001b[0;34m)\u001b[0m\u001b[0;34m\u001b[0m\u001b[0;34m\u001b[0m\u001b[0m\n\u001b[0m",
            "\u001b[0;31mAttributeError\u001b[0m: 'numpy.ndarray' object has no attribute 'value_counts'"
          ]
        }
      ]
    },
    {
      "cell_type": "code",
      "execution_count": 14,
      "id": "820bce35",
      "metadata": {
        "id": "820bce35",
        "outputId": "cab9cb34-a1ca-44b2-b992-2fde55d769a8",
        "colab": {
          "base_uri": "https://localhost:8080/"
        }
      },
      "outputs": [
        {
          "output_type": "stream",
          "name": "stdout",
          "text": [
            "              precision    recall  f1-score   support\n",
            "\n",
            "           0       0.00      0.00      0.00         0\n",
            "           1       0.00      0.00      0.00         0\n",
            "           2       0.00      0.00      0.00         0\n",
            "           3       0.00      0.00      0.00         0\n",
            "           4       0.00      0.00      0.00         2\n",
            "           6       0.00      0.00      0.00         0\n",
            "           7       0.00      0.00      0.00         0\n",
            "           9       0.00      0.00      0.00         0\n",
            "          10       0.00      0.00      0.00         0\n",
            "          12       0.00      0.00      0.00         0\n",
            "          14       0.00      0.00      0.00         0\n",
            "          16       0.00      0.00      0.00         0\n",
            "          19       0.00      0.00      0.00         0\n",
            "          22       0.00      0.00      0.00         0\n",
            "          23       0.00      0.00      0.00         0\n",
            "          24       0.07      0.14      0.10        14\n",
            "          25       0.00      0.00      0.00         0\n",
            "          26       0.00      0.00      0.00         3\n",
            "          27       0.00      0.00      0.00         2\n",
            "          28       0.00      0.00      0.00         0\n",
            "          30       0.00      0.00      0.00         0\n",
            "          31       0.00      0.00      0.00         0\n",
            "          33       0.00      0.00      0.00         0\n",
            "          38       0.00      0.00      0.00         0\n",
            "          40       0.00      0.00      0.00         0\n",
            "          41       0.00      0.00      0.00         0\n",
            "          42       0.35      0.18      0.24       117\n",
            "          43       0.21      0.23      0.22        40\n",
            "          44       0.00      0.00      0.00         0\n",
            "          46       0.00      0.00      0.00         1\n",
            "          48       0.21      0.22      0.21        37\n",
            "          51       0.00      0.00      0.00         2\n",
            "          52       0.00      0.00      0.00         0\n",
            "          53       0.04      0.07      0.05        15\n",
            "          54       0.00      0.00      0.00         0\n",
            "          55       0.00      0.00      0.00         0\n",
            "          56       0.00      0.00      0.00         0\n",
            "          57       0.00      0.00      0.00         1\n",
            "          59       0.00      0.00      0.00         1\n",
            "          60       0.00      0.00      0.00         1\n",
            "          61       0.00      0.00      0.00         0\n",
            "          66       0.00      0.00      0.00         0\n",
            "          67       0.00      0.00      0.00         0\n",
            "          68       0.00      0.00      0.00         0\n",
            "          69       0.00      0.00      0.00         1\n",
            "          76       0.00      0.00      0.00         0\n",
            "          79       0.52      0.26      0.35       138\n",
            "          82       0.00      0.00      0.00         0\n",
            "          83       0.00      0.00      0.00         0\n",
            "          85       0.00      0.00      0.00         0\n",
            "          86       0.00      0.00      0.00         0\n",
            "          87       0.00      0.00      0.00         0\n",
            "          89       0.00      0.00      0.00         4\n",
            "          93       0.28      0.16      0.21        91\n",
            "          94       0.00      0.00      0.00         0\n",
            "          95       0.08      0.50      0.13         2\n",
            "          96       0.00      0.00      0.00         0\n",
            "          98       0.00      0.00      0.00         0\n",
            "          99       0.00      0.00      0.00         0\n",
            "\n",
            "    accuracy                           0.20       472\n",
            "   macro avg       0.03      0.03      0.03       472\n",
            "weighted avg       0.33      0.20      0.24       472\n",
            "\n"
          ]
        },
        {
          "output_type": "stream",
          "name": "stderr",
          "text": [
            "/usr/local/lib/python3.8/dist-packages/sklearn/metrics/_classification.py:1318: UndefinedMetricWarning: Recall and F-score are ill-defined and being set to 0.0 in labels with no true samples. Use `zero_division` parameter to control this behavior.\n",
            "  _warn_prf(average, modifier, msg_start, len(result))\n",
            "/usr/local/lib/python3.8/dist-packages/sklearn/metrics/_classification.py:1318: UndefinedMetricWarning: Recall and F-score are ill-defined and being set to 0.0 in labels with no true samples. Use `zero_division` parameter to control this behavior.\n",
            "  _warn_prf(average, modifier, msg_start, len(result))\n",
            "/usr/local/lib/python3.8/dist-packages/sklearn/metrics/_classification.py:1318: UndefinedMetricWarning: Recall and F-score are ill-defined and being set to 0.0 in labels with no true samples. Use `zero_division` parameter to control this behavior.\n",
            "  _warn_prf(average, modifier, msg_start, len(result))\n"
          ]
        }
      ],
      "source": [
        "y_predicted = classifier.predict(x_test)\n",
        "from sklearn.metrics import classification_report\n",
        "print(classification_report(y_predicted, y_test))"
      ]
    },
    {
      "cell_type": "code",
      "source": [
        "classifier.save(\"model_0.cbm\")"
      ],
      "metadata": {
        "id": "yLTZTpOZbFag"
      },
      "id": "yLTZTpOZbFag",
      "execution_count": null,
      "outputs": []
    },
    {
      "cell_type": "code",
      "execution_count": 81,
      "id": "134790a2",
      "metadata": {
        "id": "134790a2",
        "outputId": "23f79fb7-3f68-4647-e50d-746a3402f1ca",
        "colab": {
          "base_uri": "https://localhost:8080/"
        }
      },
      "outputs": [
        {
          "output_type": "execute_result",
          "data": {
            "text/plain": [
              "<catboost.core.CatBoostClassifier at 0x7f275224b700>"
            ]
          },
          "metadata": {},
          "execution_count": 81
        }
      ],
      "source": [
        "classifier"
      ]
    }
  ],
  "metadata": {
    "kernelspec": {
      "display_name": "experiment",
      "language": "python",
      "name": "experiment"
    },
    "language_info": {
      "codemirror_mode": {
        "name": "ipython",
        "version": 3
      },
      "file_extension": ".py",
      "mimetype": "text/x-python",
      "name": "python",
      "nbconvert_exporter": "python",
      "pygments_lexer": "ipython3",
      "version": "3.8.10"
    },
    "colab": {
      "provenance": []
    },
    "accelerator": "GPU",
    "gpuClass": "standard"
  },
  "nbformat": 4,
  "nbformat_minor": 5
}