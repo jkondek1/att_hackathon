{
 "cells": [
  {
   "cell_type": "code",
   "execution_count": 4,
   "id": "2c8b3fff",
   "metadata": {},
   "outputs": [],
   "source": [
    "import os\n",
    "import pandas as pd\n",
    "data_folder = '../datasets'"
   ]
  },
  {
   "cell_type": "code",
   "execution_count": 5,
   "id": "53407344",
   "metadata": {},
   "outputs": [],
   "source": [
    "file = 'ML_DATASET_Hackathon_Supervised.csv'"
   ]
  },
  {
   "cell_type": "code",
   "execution_count": 7,
   "id": "9b323386",
   "metadata": {},
   "outputs": [],
   "source": [
    "data = pd.read_csv(os.path.join(data_folder, file))"
   ]
  },
  {
   "cell_type": "code",
   "execution_count": 10,
   "id": "f9cbde2f",
   "metadata": {},
   "outputs": [
    {
     "data": {
      "text/plain": [
       "SMARTS/GFP_CPE                                               684\n",
       "GTAC                                                         601\n",
       "Unified Desktop (UD)                                         524\n",
       "GTAC - Account issues, password change                       425\n",
       "GTAC - Other                                                 383\n",
       "                                                            ... \n",
       "RCAP / Circ.issue /ENO 308437459                               1\n",
       "No tic cut                                                     1\n",
       "GTAC - MSS acc creation, pending nw owner approval/ticket      1\n",
       "Knowledgebase Portal - M5 Apps and Tools                       1\n",
       "Pandora's Box                                                  1\n",
       "Name: Team, Length: 104, dtype: int64"
      ]
     },
     "execution_count": 10,
     "metadata": {},
     "output_type": "execute_result"
    }
   ],
   "source": [
    "data.Team.value_counts()"
   ]
  },
  {
   "cell_type": "code",
   "execution_count": null,
   "id": "ce90c152",
   "metadata": {},
   "outputs": [],
   "source": []
  }
 ],
 "metadata": {
  "kernelspec": {
   "display_name": "Python 3 (ipykernel)",
   "language": "python",
   "name": "python3"
  },
  "language_info": {
   "codemirror_mode": {
    "name": "ipython",
    "version": 3
   },
   "file_extension": ".py",
   "mimetype": "text/x-python",
   "name": "python",
   "nbconvert_exporter": "python",
   "pygments_lexer": "ipython3",
   "version": "3.8.10"
  }
 },
 "nbformat": 4,
 "nbformat_minor": 5
}
