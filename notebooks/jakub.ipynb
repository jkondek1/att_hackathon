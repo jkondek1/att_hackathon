{
  "cells": [
    {
      "cell_type": "code",
      "execution_count": 1,
      "id": "2c8b3fff",
      "metadata": {
        "id": "2c8b3fff"
      },
      "outputs": [],
      "source": [
        "import os\n",
        "import pandas as pd\n",
        "from sklearn.model_selection import train_test_split\n",
        "from sklearn.feature_extraction.text import TfidfVectorizer\n",
        "from sklearn.preprocessing import LabelEncoder\n",
        "from sklearn.metrics import classification_report\n",
        "data_folder = 'att_hackathon/datasets'"
      ]
    },
    {
      "cell_type": "code",
      "source": [
        "#_file = 'ML_DATASET_Hackathon_Supervised.csv'\n",
        "_file = 'att_hackathon/datasets/version_2.csv'"
      ],
      "metadata": {
        "id": "Uub4cJ2TcTNM"
      },
      "id": "Uub4cJ2TcTNM",
      "execution_count": 6,
      "outputs": []
    },
    {
      "cell_type": "code",
      "source": [
        "def load_file(path):\n",
        "  df = pd.read_csv(path)\n",
        "  return df\n",
        "\n",
        "def select_cutoff(df, cutoff):\n",
        "  df = df[df['percentile'] <= cutoff]\n",
        "  return df\n",
        "\n",
        "def get_non_stratifiable(df, count):\n",
        "  counts = pd.DataFrame(df.Team.value_counts()).reset_index()\n",
        "  non_stratifiable = list(counts[counts['Team'] < count]['index'])\n",
        "  data_to_strat = df[~df.Team.isin(non_stratifiable)]\n",
        "  extra = df[df.Team.isin(non_stratifiable)]\n",
        "  return extra, data_to_strat\n",
        "\n",
        "def merge_non_stratified_with_train(x_train, y_train, extra):\n",
        "    x_train = pd.concat([x_train,extra[['Problem_Abstract']]], axis=0)\n",
        "    y_train = pd.concat([y_train,extra[['Team']]], axis=0)\n",
        "    return x_train, y_train"
      ],
      "metadata": {
        "id": "PtqRLhjVGiah"
      },
      "id": "PtqRLhjVGiah",
      "execution_count": 7,
      "outputs": []
    },
    {
      "cell_type": "code",
      "source": [
        "df = load_file(_file)"
      ],
      "metadata": {
        "id": "Iq_0HThmkM51"
      },
      "id": "Iq_0HThmkM51",
      "execution_count": 8,
      "outputs": []
    },
    {
      "cell_type": "code",
      "source": [
        "data = load_file(os.path.join(data_folder, _file))\n",
        "data = data.fillna('')\n",
        "data = select_cutoff(data, 1)\n",
        "extra, data_to_strat = get_non_stratifiable(data, 2)\n",
        "x_train, x_test, y_train, y_test = train_test_split(data_to_strat[['Problem_Abstract']], \n",
        "                                                    data_to_strat[['Team']], \n",
        "                                                    test_size=0.1, \n",
        "                                                    stratify=data_to_strat[['Team']])\n",
        "x_train, y_train = merge_non_stratified_with_train(x_train, y_train, extra)"
      ],
      "metadata": {
        "id": "5zUq8FDBfgjN"
      },
      "id": "5zUq8FDBfgjN",
      "execution_count": 4,
      "outputs": []
    },
    {
      "cell_type": "code",
      "source": [
        "import numpy as np\n",
        "emb_path = 'att_hackathon/data/embeddings_mpnet.npy'\n",
        "embedding = np.load(emb_path)\n",
        "\n",
        "x_train = embedding[y_train.index]\n",
        "x_test = embedding[y_test.index]\n",
        "\n",
        "le = LabelEncoder()\n",
        "y_train = le.fit_transform(y_train)\n",
        "y_test = le.transform(y_test)"
      ],
      "metadata": {
        "id": "QUKgyD10iYsr",
        "outputId": "b8fc5362-0f64-4aac-fece-a8b40ebf6c96",
        "colab": {
          "base_uri": "https://localhost:8080/"
        }
      },
      "id": "QUKgyD10iYsr",
      "execution_count": 5,
      "outputs": [
        {
          "output_type": "stream",
          "name": "stderr",
          "text": [
            "/usr/local/lib/python3.8/dist-packages/sklearn/preprocessing/_label.py:115: DataConversionWarning: A column-vector y was passed when a 1d array was expected. Please change the shape of y to (n_samples, ), for example using ravel().\n",
            "  y = column_or_1d(y, warn=True)\n",
            "/usr/local/lib/python3.8/dist-packages/sklearn/preprocessing/_label.py:133: DataConversionWarning: A column-vector y was passed when a 1d array was expected. Please change the shape of y to (n_samples, ), for example using ravel().\n",
            "  y = column_or_1d(y, warn=True)\n"
          ]
        }
      ]
    },
    {
      "cell_type": "code",
      "source": [
        "from catboost import CatBoostClassifier\n",
        "#import xgboost as xgb\n",
        "#classifier = xgb.XGBClassifier(n_jobs=8, n_estimators=100, verbosity=3)\n",
        "classifier = CatBoostClassifier(task_type='GPU', iterations=500)\n",
        "classifier.fit(x_train, y_train)"
      ],
      "metadata": {
        "id": "wPNy3nm6gEMK"
      },
      "id": "wPNy3nm6gEMK",
      "execution_count": null,
      "outputs": []
    },
    {
      "cell_type": "code",
      "source": [
        "y_predicted = classifier.predict(x_test)\n",
        "from sklearn.metrics import classification_report\n",
        "print(classification_report(y_predicted, y_test))"
      ],
      "metadata": {
        "id": "nMC0E53LjpeO"
      },
      "id": "nMC0E53LjpeO",
      "execution_count": null,
      "outputs": []
    },
    {
      "cell_type": "code",
      "execution_count": 8,
      "id": "f439de6b",
      "metadata": {
        "colab": {
          "base_uri": "https://localhost:8080/"
        },
        "id": "f439de6b",
        "outputId": "726475f9-6e63-4365-a24d-18a88483af01"
      },
      "outputs": [
        {
          "output_type": "execute_result",
          "data": {
            "text/plain": [
              "TfidfVectorizer(ngram_range=(1, 5), stop_words='english',\n",
              "                strip_accents='unicode')"
            ]
          },
          "metadata": {},
          "execution_count": 8
        }
      ],
      "source": [
        "### EXPERIMENTING WITH TFIDF\n",
        "vect = TfidfVectorizer(strip_accents='unicode',\n",
        "                      stop_words='english',\n",
        "                      ngram_range=(1,5))\n",
        "vect.fit(x_train.fillna('').Problem_Abstract)\n",
        "x_train = vect.transform(x_train.fillna('').Problem_Abstract)\n",
        "x_test = vect.transform(x_test.fillna('').Problem_Abstract)\n",
        "le = LabelEncoder()\n",
        "y_train = le.fit_transform(y_train)\n",
        "y_test = le.transform(y_test)"
      ]
    }
  ],
  "metadata": {
    "kernelspec": {
      "display_name": "experiment",
      "language": "python",
      "name": "experiment"
    },
    "language_info": {
      "codemirror_mode": {
        "name": "ipython",
        "version": 3
      },
      "file_extension": ".py",
      "mimetype": "text/x-python",
      "name": "python",
      "nbconvert_exporter": "python",
      "pygments_lexer": "ipython3",
      "version": "3.8.10"
    },
    "colab": {
      "provenance": []
    },
    "accelerator": "GPU",
    "gpuClass": "standard"
  },
  "nbformat": 4,
  "nbformat_minor": 5
}