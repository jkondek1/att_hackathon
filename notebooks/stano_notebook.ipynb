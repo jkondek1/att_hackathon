{
 "cells": [
  {
   "cell_type": "code",
   "execution_count": 1,
   "id": "0943afc4-1f94-4adc-8351-2879bcde6cec",
   "metadata": {},
   "outputs": [],
   "source": [
    "from sentence_transformers import SentenceTransformer, util\n",
    "\n",
    "import pandas as pd\n",
    "import numpy as np\n",
    "from typing import List"
   ]
  },
  {
   "cell_type": "code",
   "execution_count": 8,
   "id": "025ba9e0-507e-426a-84b5-00ff4b47758f",
   "metadata": {},
   "outputs": [],
   "source": [
    "path = '../datasets/ML_DATASET_Hackathon_Supervised.csv'"
   ]
  },
  {
   "cell_type": "code",
   "execution_count": 9,
   "id": "5e800433-4c9d-44f5-bebb-773ac51c24ba",
   "metadata": {},
   "outputs": [],
   "source": [
    "df = pd.read_csv(path)\n",
    "train_abstract = df['Problem_Abstract'].to_list()\n",
    "ticket_number = df['Ticket'].to_list()"
   ]
  },
  {
   "cell_type": "code",
   "execution_count": 10,
   "id": "30d66c56-47fd-41fc-b5ac-85fcd58cb1e5",
   "metadata": {},
   "outputs": [],
   "source": [
    "#Load the model\n",
    "model = SentenceTransformer('sentence-transformers/all-mpnet-base-v2')"
   ]
  },
  {
   "cell_type": "code",
   "execution_count": null,
   "id": "e1262e78-e686-428e-af6a-9e28cfac4aa1",
   "metadata": {},
   "outputs": [],
   "source": [
    "results = model.encode(train_abstract)\n",
    "np.save('./data/embeddings_mpnet.npy', results)"
   ]
  },
  {
   "cell_type": "code",
   "execution_count": null,
   "id": "7e8fc6c0-52e9-48ad-84a2-d8df9a4c084e",
   "metadata": {},
   "outputs": [],
   "source": [
    "def most_simitar(text: str, docs: List[str] = train_abstract, ticket_numbers: List[int] = ticket_number,\n",
    "                 k_most_simillar: int = 5):\n",
    "    print(f\"Your query is: {text}\")\n",
    "    print(\"-\" * 3 * len(text))\n",
    "\n",
    "    query = model.encode(text)\n",
    "    docs_embed = model.encode(docs)\n",
    "\n",
    "    scores = util.cos_sim(query, docs_embed)[0].cpu().tolist()\n",
    "\n",
    "    doc_score_pairs = list(zip(docs, scores, ticket_numbers))\n",
    "    doc_score_pairs = sorted(doc_score_pairs, key=lambda x: x[1], reverse=True)\n",
    "\n",
    "    for doc, score, ticket in doc_score_pairs[:k_most_simillar]:\n",
    "        print(f\"The most simillar ticket is: {doc} -- with {round(score, 4)} -- number of tickets is {ticket}\")\n",
    "\n"
   ]
  },
  {
   "cell_type": "code",
   "execution_count": null,
   "id": "a758bbb1-9aca-4f3b-828e-7f87020deee7",
   "metadata": {},
   "outputs": [],
   "source": [
    "most_simitar(\"Order me some pizza\")"
   ]
  }
 ],
 "metadata": {
  "kernelspec": {
   "display_name": "Python 3 (ipykernel)",
   "language": "python",
   "name": "python3"
  },
  "language_info": {
   "codemirror_mode": {
    "name": "ipython",
    "version": 3
   },
   "file_extension": ".py",
   "mimetype": "text/x-python",
   "name": "python",
   "nbconvert_exporter": "python",
   "pygments_lexer": "ipython3",
   "version": "3.9.13"
  }
 },
 "nbformat": 4,
 "nbformat_minor": 5
}
